{
 "cells": [
  {
   "cell_type": "code",
   "execution_count": 2,
   "metadata": {},
   "outputs": [],
   "source": [
    "from copy import deepcopy"
   ]
  },
  {
   "cell_type": "code",
   "execution_count": 27,
   "metadata": {},
   "outputs": [],
   "source": [
    "Roraima = {\n",
    "    'Uiramuta': ['Pacaraima', 'Normandia'],\n",
    "    'Pacaraima': ['Uiramuta', 'Normandia', 'Boa Vista', 'Amajari'],\n",
    "    'Normandia': ['Uiramuta', 'Bonfim', 'Boa Vista', 'Pacaraima'],\n",
    "    'Boa Vista': ['Pacaraima', 'Normandia', 'Bonfim', 'Canta', \n",
    "                  'Mucajai', 'Alto Alegre', 'Amajari'],\n",
    "    'Bonfim': ['Caracarai', 'Canta', 'Boa Vista', 'Normandia'],\n",
    "    'Canta': ['Bonfim', 'Caracarai', 'Iracema', 'Mucajai', 'Boa Vista'],\n",
    "    'Amajari': ['Pacaraima', 'Boa Vista', 'Alto Alegre'],\n",
    "    'Alto Alegre': ['Amajari', 'Boa Vista', 'Mucajai', 'Iracema'],\n",
    "    'Mucajai': ['Alto Alegre', 'Boa Vista', 'Canta', 'Iracema'],\n",
    "    'Iracema': ['Alto Alegre', 'Mucajai', 'Canta', 'Caracarai'],\n",
    "    'Caracarai': ['Iracema', 'Canta', 'Bonfim', 'Caroebe', 'Sao Joao da Baliza', \n",
    "                  'Sao Luiz do Anaua', 'Rorainopolis'],\n",
    "    'Caroebe': ['Sao Joao da Baliza', 'Caracarai'],\n",
    "    'Sao Joao da Baliza': ['Rorainopolis', 'Sao Luiz do Anaua', 'Caracarai', 'Caroebe'],\n",
    "    'Rorainopolis': ['Caracarai', 'Sao Luiz do Anaua', 'Sao Joao da Baliza'],\n",
    "    'Sao Luiz do Anaua': ['Caracarai', 'Sao Joao da Baliza', 'Rorainopolis'],\n",
    "}\n",
    "\n",
    "class Problema:\n",
    "    def __init__(self, bordas, cores):\n",
    "        # bordas é um dicionário onde cada chave é uma região\n",
    "        # e seu valor é uma lista de suas regiões fronteiriças\n",
    "        self.bordas = bordas\n",
    "\n",
    "        # cores é uma lista com as 4 cores a serem usadas na coloração\n",
    "        self.cores = cores\n",
    "\n",
    "class No:\n",
    "    def __init__(self, mapa, regiao, cor):\n",
    "        # mapa é um dicionario\n",
    "        # cada chave é uma região, seu valor é sua cor atual\n",
    "        # ex: {'São Paulo': 'azul', 'Paraíba': 'vermelho'}\n",
    "        # representa diferentes estados do sistema\n",
    "        self.mapa = deepcopy(mapa)\n",
    "\n",
    "        # ao criar um novo nó, passando uma região e uma cor,\n",
    "        # o nó é criado com a coloração atualizada\n",
    "        self.mapa[regiao] = cor\n",
    "\n",
    "    def __str__(self):\n",
    "        string = ''\n",
    "        for regiao in self.mapa:\n",
    "            if self.mapa[regiao] != '':\n",
    "                string = string + f'{regiao}: {self.mapa[regiao]}\\n'\n",
    "        return string\n",
    "\n",
    "    def __repr__(self):\n",
    "        return self.__str__()\n",
    "    \n",
    "    # Ramifica o nó, método a ser chamado na busca\n",
    "    # retorna uma lista com os filhos do nó\n",
    "    def filhos(self, problema, proxima_regiao):\n",
    "        filhos = []\n",
    "        for cor in problema.cores:\n",
    "            filho = No(self.mapa, proxima_regiao, cor)\n",
    "            filhos.append(filho)\n",
    "        return filhos\n",
    "    \n",
    "    # varre o mapa, verifica se há regiões fronteiriças com a mesma cor\n",
    "    # será usado para podar nós com estados inviáveis\n",
    "    def is_viavel(self, problema):\n",
    "        for regiao in self.mapa:\n",
    "\n",
    "            if self.mapa[regiao] == '':\n",
    "                return True\n",
    "            \n",
    "            for borda in problema.bordas[regiao]:\n",
    "                if self.mapa[regiao] == self.mapa[borda]:\n",
    "                    return False\n",
    "                \n",
    "        return True\n",
    "\n",
    "    # varre o mapa, verifica se todas as regiões estão preenchidas\n",
    "    def is_preenchido(self):\n",
    "        for regiao in self.mapa:\n",
    "\n",
    "            if self.mapa[regiao] == '':\n",
    "                return False\n",
    "        \n",
    "        return True\n",
    "    \n",
    "    '''\n",
    "    is_viavel verifica se o nó respeita a restrição do problema: \n",
    "        não ter 4 cores iguais em regiões fronteiriças\n",
    "\n",
    "    is_preenchido verifica se o nó está completamente colorido mas\n",
    "        não verifica se o nó é viável\n",
    "        \n",
    "    é importante usar os métodos juntos para determinar se o nó representa\n",
    "        o estado objetivo\n",
    "    '''\n",
    "\n",
    "COLORACAO_INICIANDO = 1\n",
    "COLORACAO_EM_ANDAMENTO = 2\n",
    "COLORACAO_SUCESSO = 3\n",
    "COLORACAO_SEM_SUCESSO = 0\n",
    "\n",
    "# classe para realizar a busca\n",
    "class Coloracao:\n",
    "    def __init__(self, problema):\n",
    "        self.problema = problema\n",
    "        self.fronteira = [] \n",
    "        #  fronteira do problema de busca\n",
    "\n",
    "        self.status = COLORACAO_INICIANDO\n",
    "\n",
    "        # mapa é um dicionário com todas as regiões e suas cores\n",
    "        # começa em branco\n",
    "        # representa o estado inicial do sistema\n",
    "        self.mapa = {}\n",
    "        for regiao in self.problema.bordas:\n",
    "            self.mapa[regiao] = ''\n",
    "\n",
    "    def passo(self):\n",
    "        if self.status == COLORACAO_INICIANDO:\n",
    "\n",
    "            primeira_região = list(self.mapa.keys())[0]\n",
    "            # pegamos a primeira região do dicionário, que está todo em branco\n",
    "\n",
    "            # criaremos 4 nós, para as 4 possíveis cores para a primeira região\n",
    "            for cor in self.problema.cores:\n",
    "                novo_no = No(self.mapa, primeira_região, cor)\n",
    "                self.fronteira.append(novo_no)\n",
    "            \n",
    "            self.status = COLORACAO_EM_ANDAMENTO\n",
    "\n",
    "            return\n",
    "        \n",
    "        try:\n",
    "            proximo_no = self.fronteira.pop(-1)\n",
    "        except IndexError:\n",
    "            self.situacao = COLORACAO_SEM_SUCESSO\n",
    "            return\n",
    "\n",
    "        proxima_regiao = next(regiao for regiao in proximo_no.mapa if proximo_no.mapa[regiao] == '')\n",
    "        # se der erro, é pq o mapa está cheio\n",
    "\n",
    "        for filho in proximo_no.filhos(self.problema, proxima_regiao):\n",
    "\n",
    "            # verificando se o filho é viavel antes de adicioná-lo na fronteira\n",
    "            if filho.is_viavel(self.problema):\n",
    "\n",
    "                # verificando se o filho é objetivo\n",
    "                if filho.is_preenchido():\n",
    "                    self.status = COLORACAO_SUCESSO\n",
    "                    self.mapa = filho.mapa\n",
    "                    return\n",
    "                \n",
    "                else: \n",
    "                    self.fronteira.append(filho)\n",
    "        \n",
    "        return\n",
    "    \n",
    "    def executar(self):\n",
    "        while self.status == COLORACAO_EM_ANDAMENTO or self.status == COLORACAO_INICIANDO:\n",
    "            self.passo()\n",
    "        print(self.status())\n",
    "\n",
    "        return\n",
    "    \n",
    "    def status(self):\n",
    "        if self.status == COLORACAO_INICIANDO:\n",
    "            return 'Coloração iniciando'\n",
    "        elif self.status == COLORACAO_EM_ANDAMENTO:\n",
    "            return 'Coloração em andamento'\n",
    "        elif self.status == COLORACAO_SUCESSO:\n",
    "            return 'Coloração bem sucedida'\n",
    "        elif self.status == COLORACAO_SEM_SUCESSO:\n",
    "            return 'Coloração sem sucesso'"
   ]
  },
  {
   "cell_type": "code",
   "execution_count": 4,
   "metadata": {},
   "outputs": [
    {
     "data": {
      "text/plain": [
       "['Pacaraima', 'Normandia']"
      ]
     },
     "execution_count": 4,
     "metadata": {},
     "output_type": "execute_result"
    }
   ],
   "source": [
    "Roraima['Uiramuta']"
   ]
  },
  {
   "cell_type": "code",
   "execution_count": 5,
   "metadata": {},
   "outputs": [],
   "source": [
    "prob_ex = Problema(Roraima, ['branco', 'verde', 'azul', 'cinza'])\n",
    "col_ex = Coloracao(prob_ex)\n",
    "no_1 = No(col_ex.mapa, 'Uiramuta', 'branco')"
   ]
  },
  {
   "cell_type": "code",
   "execution_count": 6,
   "metadata": {},
   "outputs": [
    {
     "data": {
      "text/plain": [
       "'Pacaraima'"
      ]
     },
     "execution_count": 6,
     "metadata": {},
     "output_type": "execute_result"
    }
   ],
   "source": [
    "try:\n",
    "    proxima_regiao = next(regiao for regiao in no_1.mapa if no_1.mapa[regiao] == '')\n",
    "except StopIteration:\n",
    "    proxima_regiao = \"ops\"\n",
    "\n",
    "proxima_regiao"
   ]
  },
  {
   "cell_type": "code",
   "execution_count": 7,
   "metadata": {},
   "outputs": [
    {
     "data": {
      "text/plain": [
       "['branco', 'verde', 'azul', 'cinza']"
      ]
     },
     "execution_count": 7,
     "metadata": {},
     "output_type": "execute_result"
    }
   ],
   "source": [
    "col_ex.problema.cores"
   ]
  },
  {
   "cell_type": "code",
   "execution_count": 8,
   "metadata": {},
   "outputs": [
    {
     "data": {
      "text/plain": [
       "[Uiramuta: branco\n",
       " Pacaraima: branco,\n",
       " Uiramuta: branco\n",
       " Pacaraima: verde,\n",
       " Uiramuta: branco\n",
       " Pacaraima: azul,\n",
       " Uiramuta: branco\n",
       " Pacaraima: cinza]"
      ]
     },
     "execution_count": 8,
     "metadata": {},
     "output_type": "execute_result"
    }
   ],
   "source": [
    "filhos = no_1.filhos(prob_ex, 'Pacaraima')\n",
    "filhos"
   ]
  },
  {
   "cell_type": "code",
   "execution_count": 9,
   "metadata": {},
   "outputs": [
    {
     "data": {
      "text/plain": [
       "True"
      ]
     },
     "execution_count": 9,
     "metadata": {},
     "output_type": "execute_result"
    }
   ],
   "source": [
    "filhos[2].is_viavel(prob_ex)"
   ]
  },
  {
   "cell_type": "code",
   "execution_count": 11,
   "metadata": {},
   "outputs": [],
   "source": [
    "# proxima_regiao = next(regiao for regiao in no_1.mapa if no_1.mapa[regiao] == 'aa')\n",
    "# proxima_regiao"
   ]
  },
  {
   "cell_type": "code",
   "execution_count": 19,
   "metadata": {},
   "outputs": [],
   "source": [
    "netos = []\n",
    "for filho in filhos:\n",
    "    novos_netos = filho.filhos(prob_ex, 'Normandia')\n",
    "    for neto in novos_netos:\n",
    "        netos.append(neto)\n",
    "\n",
    "# for neto in netos:\n",
    "#     print(neto)\n",
    "#     print(neto.is_objetivo())\n",
    "#     print('---')\n"
   ]
  },
  {
   "cell_type": "code",
   "execution_count": 20,
   "metadata": {},
   "outputs": [],
   "source": [
    "mapa_ex  = {\n",
    "    'Uiramuta': 'a',\n",
    "    'Pacaraima': 'a',\n",
    "    'Normandia': 'a',\n",
    "    'Boa Vista': 'a', \n",
    "    'Bonfim': 'a',\n",
    "    'Canta': 'a',\n",
    "    'Amajari': 'a',\n",
    "    'Alto Alegre': 'a',\n",
    "    'Mucajai': 'a',\n",
    "    'Iracema': 'a',\n",
    "    'Caracarai': 'a',\n",
    "    'Caroebe': 'a',\n",
    "    'Sao Joao da Baliza': 'a',\n",
    "    'Rorainopolis': 'a',\n",
    "    'Sao Luiz do Anaua': '',\n",
    "}"
   ]
  },
  {
   "cell_type": "code",
   "execution_count": 23,
   "metadata": {},
   "outputs": [
    {
     "data": {
      "text/plain": [
       "Uiramuta: a\n",
       "Pacaraima: a\n",
       "Normandia: a\n",
       "Boa Vista: a\n",
       "Bonfim: a\n",
       "Canta: a\n",
       "Amajari: a\n",
       "Alto Alegre: a\n",
       "Mucajai: a\n",
       "Iracema: a\n",
       "Caracarai: a\n",
       "Caroebe: a\n",
       "Sao Joao da Baliza: a\n",
       "Rorainopolis: a\n",
       "Sao Luiz do Anaua: a"
      ]
     },
     "execution_count": 23,
     "metadata": {},
     "output_type": "execute_result"
    }
   ],
   "source": [
    "no_cheio = No(mapa_ex, 'Sao Luiz do Anaua', 'a')\n",
    "no_cheio"
   ]
  },
  {
   "cell_type": "code",
   "execution_count": 24,
   "metadata": {},
   "outputs": [
    {
     "data": {
      "text/plain": [
       "True"
      ]
     },
     "execution_count": 24,
     "metadata": {},
     "output_type": "execute_result"
    }
   ],
   "source": [
    "no_cheio.is_objetivo()"
   ]
  },
  {
   "cell_type": "code",
   "execution_count": 26,
   "metadata": {},
   "outputs": [
    {
     "data": {
      "text/plain": [
       "False"
      ]
     },
     "execution_count": 26,
     "metadata": {},
     "output_type": "execute_result"
    }
   ],
   "source": [
    "no_cheio.is_viavel(prob_ex)"
   ]
  }
 ],
 "metadata": {
  "kernelspec": {
   "display_name": "Python 3",
   "language": "python",
   "name": "python3"
  },
  "language_info": {
   "codemirror_mode": {
    "name": "ipython",
    "version": 3
   },
   "file_extension": ".py",
   "mimetype": "text/x-python",
   "name": "python",
   "nbconvert_exporter": "python",
   "pygments_lexer": "ipython3",
   "version": "3.8.10"
  },
  "orig_nbformat": 4
 },
 "nbformat": 4,
 "nbformat_minor": 2
}
