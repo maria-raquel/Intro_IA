{
 "cells": [
  {
   "cell_type": "code",
   "execution_count": 1,
   "metadata": {},
   "outputs": [],
   "source": [
    "from copy import deepcopy"
   ]
  },
  {
   "cell_type": "code",
   "execution_count": 2,
   "metadata": {},
   "outputs": [],
   "source": [
    "Roraima = {\n",
    "    'Uiramutã': ['Pacaraima', 'Normandia'],\n",
    "    'Pacaraima': ['Uiramutã', 'Normandia', 'Boa Vista', 'Amajari'],\n",
    "    'Normandia': ['Uiramutã', 'Bonfim', 'Boa Vista', 'Pacaraima'],\n",
    "    'Boa Vista': ['Pacaraima', 'Normandia', 'Bonfim', 'Cantá',\n",
    "                  'Mucajaí', 'Alto Alegre', 'Amajari'],\n",
    "    'Bonfim': ['Caracaraí', 'Cantá', 'Boa Vista', 'Normandia'],\n",
    "    'Cantá': ['Bonfim', 'Caracaraí', 'Iracema', 'Mucajaí', 'Boa Vista'],\n",
    "    'Amajari': ['Pacaraima', 'Boa Vista', 'Alto Alegre'],\n",
    "    'Alto Alegre': ['Amajari', 'Boa Vista', 'Mucajaí', 'Iracema'],\n",
    "    'Mucajaí': ['Alto Alegre', 'Boa Vista', 'Cantá', 'Iracema'],\n",
    "    'Iracema': ['Alto Alegre', 'Mucajaí', 'Cantá', 'Caracaraí'],\n",
    "    'Caracaraí': ['Iracema', 'Cantá', 'Bonfim', 'Caroebe', 'São João da Baliza',\n",
    "                  'São Luiz', 'Rorainópolis'],\n",
    "    'Caroebe': ['São João da Baliza', 'Caracaraí'],\n",
    "    'São João da Baliza': ['Rorainópolis', 'São Luiz', 'Caracaraí', 'Caroebe'],\n",
    "    'Rorainópolis': ['Caracaraí', 'São Luiz', 'São João da Baliza'],\n",
    "    'São Luiz': ['Caracaraí', 'São João da Baliza', 'Rorainópolis'],\n",
    "}\n",
    "\n",
    "class Problema:\n",
    "    def __init__(self, bordas, cores):\n",
    "        # bordas é um dicionário onde cada chave é uma região\n",
    "        # e seu valor é uma lista de suas regiões fronteiriças\n",
    "        self.bordas = bordas\n",
    "\n",
    "        # cores é uma lista com as 4 cores a serem usadas na coloração\n",
    "        self.cores = cores\n",
    "\n",
    "class No:\n",
    "    def __init__(self, mapa, regiao, cor):\n",
    "        # mapa é um dicionario\n",
    "        # cada chave é uma região, seu valor é sua cor atual\n",
    "        # ex: {'São Paulo': 'azul', 'Paraíba': 'vermelho'}\n",
    "        # representa diferentes estados do sistema\n",
    "        self.mapa = deepcopy(mapa)\n",
    "\n",
    "        # ao criar um novo nó, passando uma região e uma cor,\n",
    "        # o nó é criado com a coloração atualizada\n",
    "        self.mapa[regiao] = cor\n",
    "\n",
    "    def __str__(self):\n",
    "        # só imprime as regiões preenchidas, por legibilidade\n",
    "        string = ''\n",
    "        for regiao in self.mapa:\n",
    "            if self.mapa[regiao] != '':\n",
    "                string = string + f'{regiao}: {self.mapa[regiao]}\\n'\n",
    "        return string\n",
    "\n",
    "    def __repr__(self):\n",
    "        return self.__str__()\n",
    "    \n",
    "    # Ramifica o nó, método a ser chamado na busca\n",
    "    # retorna uma lista com os filhos do nó\n",
    "    def filhos(self, problema, proxima_regiao):\n",
    "        filhos = []\n",
    "        for cor in problema.cores:\n",
    "            filho = No(self.mapa, proxima_regiao, cor)\n",
    "            filhos.append(filho)\n",
    "        return filhos\n",
    "    \n",
    "    # varre o mapa, verifica se há regiões fronteiriças com a mesma cor\n",
    "    # será usado para podar nós com estados inviáveis\n",
    "    def is_viavel(self, problema):\n",
    "        for regiao in self.mapa:\n",
    "\n",
    "            if self.mapa[regiao] == '':\n",
    "                return True\n",
    "            \n",
    "            for borda in problema.bordas[regiao]:\n",
    "                if self.mapa[regiao] == self.mapa[borda]:\n",
    "                    return False\n",
    "                \n",
    "        return True\n",
    "\n",
    "    # varre o mapa, verifica se todas as regiões estão preenchidas\n",
    "    def is_preenchido(self):\n",
    "        for regiao in self.mapa:\n",
    "\n",
    "            if self.mapa[regiao] == '':\n",
    "                return False\n",
    "        \n",
    "        return True\n",
    "    \n",
    "    '''\n",
    "    is_viavel verifica se o nó respeita a restrição do problema: \n",
    "        não ter 4 cores iguais em regiões fronteiriças\n",
    "\n",
    "    is_preenchido verifica se o nó está completamente colorido mas\n",
    "        não verifica se o nó é viável\n",
    "        \n",
    "    é importante usar os métodos juntos para determinar se o nó representa\n",
    "        o estado objetivo\n",
    "    '''\n",
    "\n",
    "COLORACAO_INICIANDO = 1\n",
    "COLORACAO_EM_ANDAMENTO = 2\n",
    "COLORACAO_SUCESSO = 3\n",
    "COLORACAO_SEM_SUCESSO = 0\n",
    "\n",
    "# classe para realizar a busca\n",
    "class Coloracao:\n",
    "    def __init__(self, problema):\n",
    "        self.problema = problema\n",
    "        self.fronteira = [] \n",
    "        #  fronteira do problema de busca\n",
    "\n",
    "        self.status = COLORACAO_INICIANDO\n",
    "\n",
    "        # mapa é um dicionário com todas as regiões e suas cores\n",
    "        # começa em branco\n",
    "        # representa o estado inicial do sistema\n",
    "        self.mapa = {}\n",
    "        for regiao in self.problema.bordas:\n",
    "            self.mapa[regiao] = ''\n",
    "\n",
    "    def passo(self):\n",
    "        if self.status == COLORACAO_INICIANDO:\n",
    "\n",
    "            primeira_região = list(self.mapa.keys())[0]\n",
    "            # pegamos a primeira região do dicionário, que está todo em branco\n",
    "\n",
    "            # criaremos 4 nós, para as 4 possíveis cores para a primeira região\n",
    "            for cor in self.problema.cores:\n",
    "                novo_no = No(self.mapa, primeira_região, cor)\n",
    "                self.fronteira.append(novo_no)\n",
    "            \n",
    "            self.status = COLORACAO_EM_ANDAMENTO\n",
    "\n",
    "            return\n",
    "        \n",
    "        try:\n",
    "            proximo_no = self.fronteira.pop(-1)\n",
    "        except IndexError:\n",
    "            self.situacao = COLORACAO_SEM_SUCESSO\n",
    "            return\n",
    "\n",
    "        proxima_regiao = next(regiao for regiao in proximo_no.mapa if proximo_no.mapa[regiao] == '')\n",
    "        # se der erro, é pq o mapa está cheio\n",
    "\n",
    "        for filho in proximo_no.filhos(self.problema, proxima_regiao):\n",
    "\n",
    "            # verificando se o filho é viavel antes de adicioná-lo na fronteira\n",
    "            if filho.is_viavel(self.problema):\n",
    "\n",
    "                # verificando se o filho é objetivo\n",
    "                if filho.is_preenchido():\n",
    "                    self.status = COLORACAO_SUCESSO\n",
    "                    self.mapa = filho.mapa\n",
    "                    return\n",
    "                \n",
    "                else: \n",
    "                    self.fronteira.append(filho)\n",
    "        \n",
    "        return\n",
    "    \n",
    "    def executar(self):\n",
    "        while self.status == COLORACAO_EM_ANDAMENTO or self.status == COLORACAO_INICIANDO:\n",
    "            self.passo()\n",
    "        return \n",
    "    \n",
    "    def show_status(self):\n",
    "        if self.status == COLORACAO_INICIANDO:\n",
    "            return 'Coloração iniciando'\n",
    "        elif self.status == COLORACAO_EM_ANDAMENTO:\n",
    "            return 'Coloração em andamento'\n",
    "        elif self.status == COLORACAO_SUCESSO:\n",
    "            return 'Coloração bem sucedida'\n",
    "        elif self.status == COLORACAO_SEM_SUCESSO:\n",
    "            return 'Coloração sem sucesso'\n",
    "        \n",
    "    def mapa_colorido(self):\n",
    "        for regiao in self.mapa:\n",
    "            print(f'{regiao}: {self.mapa[regiao]}')\n",
    "        return"
   ]
  },
  {
   "cell_type": "code",
   "execution_count": 3,
   "metadata": {},
   "outputs": [],
   "source": [
    "prob_ex = Problema(Roraima, ['FD8A8A', 'F1F7B5', 'A8D1D1', '9EA1D4'])\n",
    "col_ex = Coloracao(prob_ex)"
   ]
  },
  {
   "cell_type": "code",
   "execution_count": 4,
   "metadata": {},
   "outputs": [
    {
     "data": {
      "text/plain": [
       "'Coloração iniciando'"
      ]
     },
     "execution_count": 4,
     "metadata": {},
     "output_type": "execute_result"
    }
   ],
   "source": [
    "col_ex.show_status()"
   ]
  },
  {
   "cell_type": "code",
   "execution_count": 5,
   "metadata": {},
   "outputs": [],
   "source": [
    "col_ex.executar()"
   ]
  },
  {
   "cell_type": "code",
   "execution_count": 6,
   "metadata": {},
   "outputs": [
    {
     "data": {
      "text/plain": [
       "'Coloração bem sucedida'"
      ]
     },
     "execution_count": 6,
     "metadata": {},
     "output_type": "execute_result"
    }
   ],
   "source": [
    "col_ex.show_status()"
   ]
  },
  {
   "cell_type": "code",
   "execution_count": 7,
   "metadata": {},
   "outputs": [
    {
     "data": {
      "text/plain": [
       "{'Uiramutã': '9EA1D4',\n",
       " 'Pacaraima': 'A8D1D1',\n",
       " 'Normandia': 'F1F7B5',\n",
       " 'Boa Vista': '9EA1D4',\n",
       " 'Bonfim': 'A8D1D1',\n",
       " 'Cantá': 'F1F7B5',\n",
       " 'Amajari': 'F1F7B5',\n",
       " 'Alto Alegre': 'A8D1D1',\n",
       " 'Mucajaí': 'FD8A8A',\n",
       " 'Iracema': '9EA1D4',\n",
       " 'Caracaraí': 'FD8A8A',\n",
       " 'Caroebe': '9EA1D4',\n",
       " 'São João da Baliza': 'A8D1D1',\n",
       " 'Rorainópolis': '9EA1D4',\n",
       " 'São Luiz': 'F1F7B5'}"
      ]
     },
     "execution_count": 7,
     "metadata": {},
     "output_type": "execute_result"
    }
   ],
   "source": [
    "col_ex.mapa"
   ]
  },
  {
   "cell_type": "code",
   "execution_count": 10,
   "metadata": {},
   "outputs": [
    {
     "data": {
      "image/png": "[encoded data removed]",
      "text/plain": [
       "<Figure size 432x288 with 1 Axes>"
      ]
     },
     "metadata": {
      "needs_background": "light"
     },
     "output_type": "display_data"
    }
   ],
   "source": [
    "import geopandas as gpd\n",
    "import matplotlib.pyplot as plt\n",
    "\n",
    "# Carregando o arquivo GeoJSON de Roraima\n",
    "path_to_geojson = 'geojs-14-mun.json'\n",
    "gdf = gpd.read_file(path_to_geojson)\n",
    "\n",
    "# Criar uma nova coluna no GeoDataFrame para armazenar as cores\n",
    "gdf['color'] = None\n",
    "\n",
    "# Iterar sobre os municípios e atribuir a cor correspondente a cada um\n",
    "for i, row in gdf.iterrows():\n",
    "    municipio = row[\"name\"]\n",
    "    if municipio in col_ex.mapa:\n",
    "        gdf.at[i, 'color'] = col_ex.mapa[municipio]\n",
    "\n",
    "# Plotar o mapa com as cores atribuídas aos municípios\n",
    "gdf.plot(column='color', cmap='Set3', linewidth=0.8, edgecolor='black')\n",
    "\n",
    "# Exibir o mapa\n",
    "plt.show()\n"
   ]
  }
 ],
 "metadata": {
  "kernelspec": {
   "display_name": "Python 3",
   "language": "python",
   "name": "python3"
  },
  "language_info": {
   "codemirror_mode": {
    "name": "ipython",
    "version": 3
   },
   "file_extension": ".py",
   "mimetype": "text/x-python",
   "name": "python",
   "nbconvert_exporter": "python",
   "pygments_lexer": "ipython3",
   "version": "3.8.10"
  },
  "orig_nbformat": 4
 },
 "nbformat": 4,
 "nbformat_minor": 2
}
