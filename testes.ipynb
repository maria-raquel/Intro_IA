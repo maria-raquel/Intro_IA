{
 "cells": [
  {
   "cell_type": "code",
   "execution_count": 20,
   "metadata": {},
   "outputs": [],
   "source": [
    "Roraima = {\n",
    "    'Uiramuta': ['Pacaraima', 'Normandia'],\n",
    "    'Pacaraima': ['Uiramuta', 'Normandia', 'Boa Vista', 'Amajari'],\n",
    "    'Normandia': ['Uiramuta', 'Bonfim', 'Boa Vista', 'Pacaraima'],\n",
    "    'Boa Vista': ['Pacaraima', 'Normandia', 'Bonfim', 'Canta', \n",
    "                  'Mucajai', 'Alto Alegre', 'Amajari'],\n",
    "    'Bonfim': ['Caracarai', 'Canta', 'Boa Vista', 'Normandia'],\n",
    "    'Canta': ['Bonfim', 'Caracarai', 'Iracema', 'Mucajai', 'Boa Vista'],\n",
    "    'Amajari': ['Pacaraima', 'Boa Vista', 'Alto Alegre'],\n",
    "    'Alto Alegre': ['Amajari', 'Boa Vista', 'Mucajai', 'Iracema'],\n",
    "    'Mucajai': ['Alto Alegre', 'Boa Vista', 'Canta', 'Iracema'],\n",
    "    'Iracema': ['Alto Alegre', 'Mucajai', 'Canta', 'Caracarai'],\n",
    "    'Caracarai': ['Iracema', 'Canta', 'Bonfim', 'Caroebe', 'Sao Joao da Baliza', \n",
    "                  'Sao Luiz do Anaua', 'Rorainopolis'],\n",
    "    'Caroebe': ['Sao Joao da Baliza', 'Caracarai'],\n",
    "    'Sao Joao da Baliza': ['Rorainopolis', 'Sao Luiz do Anaua', 'Caracarai', 'Caroebe'],\n",
    "    'Rorainopolis': ['Caracarai', 'Sao Luiz do Anaua', 'Sao Joao da Baliza'],\n",
    "    'Sao Luiz do Anaua': ['Caracarai', 'Sao Joao da Baliza', 'Rorainopolis'],\n",
    "}\n",
    "\n",
    "class Problema:\n",
    "    def __init__(self, bordas, cores):\n",
    "        # bordas é um dicionário onde cada chave é uma região\n",
    "        # e seu valor é uma lista de suas regiões fronteiriças\n",
    "        self.bordas = bordas\n",
    "\n",
    "        # mapa é um dicionário com todas as regiões e suas cores\n",
    "        # começa em branco\n",
    "        # representa o estado inicial do sistema\n",
    "        self.mapa = {}\n",
    "        for regiao in bordas:\n",
    "            self.mapa[regiao] = ''\n",
    "\n",
    "        # cores é uma lista com as 4 cores a serem usadas na coloração\n",
    "        self.cores = cores\n",
    "\n",
    "class No:\n",
    "    def __init__(self, mapa, regiao, cor):\n",
    "        # mapa é uma lista de dicionarios\n",
    "        # cada chave é uma região, seu valor é sua cor atual\n",
    "        # representa diferentes estados do sistema\n",
    "        self.mapa = mapa\n",
    "\n",
    "        # ao criar um novo nó, passando uma região e uma cor,\n",
    "        # o nó é criado com a coloração atualizada\n",
    "        mapa[regiao] = cor\n",
    "\n",
    "    def __str__(self):\n",
    "        string = ''\n",
    "        for regiao in self.mapa:\n",
    "            string = string + f'\\n{regiao}: {self.mapa[regiao]}'\n",
    "        return string\n",
    "\n",
    "    def __repr__(self):\n",
    "        return self.__str__()\n",
    "    \n",
    "    def filhos(self, cores, proxima_regiao):\n",
    "        filhos = []\n",
    "        for cor in cores:\n",
    "            filho = No(self.mapa, proxima_regiao, cor)\n",
    "            filhos.append(filho)\n",
    "        return filhos"
   ]
  },
  {
   "cell_type": "code",
   "execution_count": 21,
   "metadata": {},
   "outputs": [],
   "source": [
    "cores = ['azul', 'branco', 'cinza', 'verde']\n",
    "prob_ex = Problema(Roraima, cores)"
   ]
  },
  {
   "cell_type": "code",
   "execution_count": 22,
   "metadata": {},
   "outputs": [
    {
     "data": {
      "text/plain": [
       "\n",
       "Uiramuta: azul\n",
       "Pacaraima: \n",
       "Normandia: \n",
       "Boa Vista: \n",
       "Bonfim: \n",
       "Canta: \n",
       "Amajari: \n",
       "Alto Alegre: \n",
       "Mucajai: \n",
       "Iracema: \n",
       "Caracarai: \n",
       "Caroebe: \n",
       "Sao Joao da Baliza: \n",
       "Rorainopolis: \n",
       "Sao Luiz do Anaua: "
      ]
     },
     "execution_count": 22,
     "metadata": {},
     "output_type": "execute_result"
    }
   ],
   "source": [
    "no_ex_1 = No(prob_ex.mapa, 'Uiramuta', 'azul')\n",
    "no_ex_1"
   ]
  },
  {
   "cell_type": "code",
   "execution_count": 27,
   "metadata": {},
   "outputs": [
    {
     "data": {
      "text/plain": [
       "list"
      ]
     },
     "execution_count": 27,
     "metadata": {},
     "output_type": "execute_result"
    }
   ],
   "source": [
    "novos_no = no_ex_1.filhos(cores, 'Pacaraima')\n",
    "type(novos_no)"
   ]
  }
 ],
 "metadata": {
  "kernelspec": {
   "display_name": "Python 3",
   "language": "python",
   "name": "python3"
  },
  "language_info": {
   "codemirror_mode": {
    "name": "ipython",
    "version": 3
   },
   "file_extension": ".py",
   "mimetype": "text/x-python",
   "name": "python",
   "nbconvert_exporter": "python",
   "pygments_lexer": "ipython3",
   "version": "3.8.10"
  },
  "orig_nbformat": 4
 },
 "nbformat": 4,
 "nbformat_minor": 2
}
