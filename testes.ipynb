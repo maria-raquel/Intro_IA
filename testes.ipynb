{
 "cells": [
  {
   "cell_type": "code",
   "execution_count": 1,
   "metadata": {},
   "outputs": [],
   "source": [
    "import A_star as As"
   ]
  },
  {
   "cell_type": "code",
   "execution_count": 2,
   "metadata": {},
   "outputs": [],
   "source": [
    "arad = As.No('Arad', 0, None, None)"
   ]
  },
  {
   "cell_type": "code",
   "execution_count": 3,
   "metadata": {},
   "outputs": [],
   "source": [
    "p_teste = As.Problema(As.estados_romenia, arad, lambda no: no.estado == 'Bucharest')\n",
    "b_teste = As.A_Star(p_teste)"
   ]
  },
  {
   "cell_type": "code",
   "execution_count": 4,
   "metadata": {},
   "outputs": [
    {
     "ename": "AttributeError",
     "evalue": "'NoneType' object has no attribute 'funcao_avaliacao'",
     "output_type": "error",
     "traceback": [
      "\u001b[0;31m---------------------------------------------------------------------------\u001b[0m",
      "\u001b[0;31mAttributeError\u001b[0m                            Traceback (most recent call last)",
      "\u001b[1;32m/home/raquel/Intro_IA/testes.ipynb Célula 4\u001b[0m in \u001b[0;36m<cell line: 1>\u001b[0;34m()\u001b[0m\n\u001b[0;32m----> <a href='vscode-notebook-cell:/home/raquel/Intro_IA/testes.ipynb#W3sZmlsZQ%3D%3D?line=0'>1</a>\u001b[0m b_teste\u001b[39m.\u001b[39;49mexecutar()\n",
      "File \u001b[0;32m~/Intro_IA/A_star.py:162\u001b[0m, in \u001b[0;36mA_Star.executar\u001b[0;34m(self)\u001b[0m\n\u001b[1;32m    160\u001b[0m \u001b[39mdef\u001b[39;00m \u001b[39mexecutar\u001b[39m(\u001b[39mself\u001b[39m):\n\u001b[1;32m    161\u001b[0m     \u001b[39mwhile\u001b[39;00m \u001b[39mself\u001b[39m\u001b[39m.\u001b[39msituacao \u001b[39m!=\u001b[39m BUSCA_FALHOU \u001b[39mand\u001b[39;00m \u001b[39mself\u001b[39m\u001b[39m.\u001b[39msituacao \u001b[39m!=\u001b[39m BUSCA_SUCESSO:\n\u001b[0;32m--> 162\u001b[0m         \u001b[39mself\u001b[39;49m\u001b[39m.\u001b[39;49mpasso_busca()\n\u001b[1;32m    164\u001b[0m     \u001b[39mif\u001b[39;00m \u001b[39mself\u001b[39m\u001b[39m.\u001b[39msituacao \u001b[39m==\u001b[39m BUSCA_FALHOU:\n\u001b[1;32m    165\u001b[0m         \u001b[39mprint\u001b[39m(\u001b[39m\"\u001b[39m\u001b[39mBusca falhou\u001b[39m\u001b[39m\"\u001b[39m)\n",
      "File \u001b[0;32m~/Intro_IA/A_star.py:190\u001b[0m, in \u001b[0;36mA_Star.passo_busca\u001b[0;34m(self)\u001b[0m\n\u001b[1;32m    188\u001b[0m \u001b[39mif\u001b[39;00m \u001b[39mself\u001b[39m\u001b[39m.\u001b[39mproblema\u001b[39m.\u001b[39mobjetivo(no):\n\u001b[1;32m    189\u001b[0m     \u001b[39mself\u001b[39m\u001b[39m.\u001b[39msituacao \u001b[39m=\u001b[39m BUSCA_SUCESSO\n\u001b[0;32m--> 190\u001b[0m     \u001b[39mself\u001b[39m\u001b[39m.\u001b[39msolucao \u001b[39m=\u001b[39m no\u001b[39m.\u001b[39;49mconstroi_solucao()\n\u001b[1;32m    191\u001b[0m     \u001b[39mreturn\u001b[39;00m\n\u001b[1;32m    193\u001b[0m \u001b[39mfor\u001b[39;00m filho \u001b[39min\u001b[39;00m no\u001b[39m.\u001b[39mfilhos(\u001b[39mself\u001b[39m\u001b[39m.\u001b[39mproblema):\n",
      "File \u001b[0;32m~/Intro_IA/A_star.py:132\u001b[0m, in \u001b[0;36mNo.constroi_solucao\u001b[0;34m(self)\u001b[0m\n\u001b[1;32m    130\u001b[0m no_atual \u001b[39m=\u001b[39m \u001b[39mself\u001b[39m\n\u001b[1;32m    131\u001b[0m solucao \u001b[39m=\u001b[39m [no_atual]\n\u001b[0;32m--> 132\u001b[0m \u001b[39mwhile\u001b[39;00m no_atual\u001b[39m.\u001b[39;49mpai \u001b[39m!=\u001b[39;49m \u001b[39mNone\u001b[39;49;00m:\n\u001b[1;32m    133\u001b[0m     no_atual \u001b[39m=\u001b[39m no_atual\u001b[39m.\u001b[39mpai\n\u001b[1;32m    134\u001b[0m     solucao\u001b[39m.\u001b[39minsert(\u001b[39m0\u001b[39m, no_atual)\n",
      "File \u001b[0;32m~/Intro_IA/A_star.py:116\u001b[0m, in \u001b[0;36mNo.__eq__\u001b[0;34m(self, other)\u001b[0m\n\u001b[1;32m    115\u001b[0m \u001b[39mdef\u001b[39;00m \u001b[39m__eq__\u001b[39m(\u001b[39mself\u001b[39m, other):\n\u001b[0;32m--> 116\u001b[0m     \u001b[39mreturn\u001b[39;00m \u001b[39mself\u001b[39m\u001b[39m.\u001b[39mfuncao_avaliacao \u001b[39m==\u001b[39m other\u001b[39m.\u001b[39;49mfuncao_avaliacao\n",
      "\u001b[0;31mAttributeError\u001b[0m: 'NoneType' object has no attribute 'funcao_avaliacao'"
     ]
    }
   ],
   "source": [
    "b_teste.executar()"
   ]
  },
  {
   "cell_type": "code",
   "execution_count": null,
   "metadata": {},
   "outputs": [],
   "source": [
    "npo = As.No('Sibiu', 113, None, None)"
   ]
  },
  {
   "cell_type": "code",
   "execution_count": null,
   "metadata": {},
   "outputs": [
    {
     "name": "stdout",
     "output_type": "stream",
     "text": [
      "(Arad, c = 0, d = 366)\n",
      "(Sibiu, c = 113, d = 366)\n"
     ]
    }
   ],
   "source": [
    "print(arad)\n",
    "print(npo)"
   ]
  },
  {
   "cell_type": "code",
   "execution_count": null,
   "metadata": {},
   "outputs": [
    {
     "data": {
      "text/plain": [
       "False"
      ]
     },
     "execution_count": 7,
     "metadata": {},
     "output_type": "execute_result"
    }
   ],
   "source": [
    "(arad == npo)"
   ]
  },
  {
   "cell_type": "code",
   "execution_count": null,
   "metadata": {},
   "outputs": [
    {
     "data": {
      "text/plain": [
       "113"
      ]
     },
     "execution_count": 8,
     "metadata": {},
     "output_type": "execute_result"
    }
   ],
   "source": [
    "366-253"
   ]
  }
 ],
 "metadata": {
  "kernelspec": {
   "display_name": "Python 3",
   "language": "python",
   "name": "python3"
  },
  "language_info": {
   "codemirror_mode": {
    "name": "ipython",
    "version": 3
   },
   "file_extension": ".py",
   "mimetype": "text/x-python",
   "name": "python",
   "nbconvert_exporter": "python",
   "pygments_lexer": "ipython3",
   "version": "3.8.10"
  },
  "orig_nbformat": 4
 },
 "nbformat": 4,
 "nbformat_minor": 2
}
