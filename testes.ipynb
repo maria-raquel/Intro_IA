{
 "cells": [
  {
   "cell_type": "code",
   "execution_count": 1,
   "metadata": {},
   "outputs": [],
   "source": [
    "from copy import deepcopy"
   ]
  },
  {
   "cell_type": "code",
   "execution_count": 6,
   "metadata": {},
   "outputs": [],
   "source": [
    "Roraima = {\n",
    "    'Uiramuta': ['Pacaraima', 'Normandia'],\n",
    "    'Pacaraima': ['Uiramuta', 'Normandia', 'Boa Vista', 'Amajari'],\n",
    "    'Normandia': ['Uiramuta', 'Bonfim', 'Boa Vista', 'Pacaraima'],\n",
    "    'Boa Vista': ['Pacaraima', 'Normandia', 'Bonfim', 'Canta', \n",
    "                  'Mucajai', 'Alto Alegre', 'Amajari'],\n",
    "    'Bonfim': ['Caracarai', 'Canta', 'Boa Vista', 'Normandia'],\n",
    "    'Canta': ['Bonfim', 'Caracarai', 'Iracema', 'Mucajai', 'Boa Vista'],\n",
    "    'Amajari': ['Pacaraima', 'Boa Vista', 'Alto Alegre'],\n",
    "    'Alto Alegre': ['Amajari', 'Boa Vista', 'Mucajai', 'Iracema'],\n",
    "    'Mucajai': ['Alto Alegre', 'Boa Vista', 'Canta', 'Iracema'],\n",
    "    'Iracema': ['Alto Alegre', 'Mucajai', 'Canta', 'Caracarai'],\n",
    "    'Caracarai': ['Iracema', 'Canta', 'Bonfim', 'Caroebe', 'Sao Joao da Baliza', \n",
    "                  'Sao Luiz do Anaua', 'Rorainopolis'],\n",
    "    'Caroebe': ['Sao Joao da Baliza', 'Caracarai'],\n",
    "    'Sao Joao da Baliza': ['Rorainopolis', 'Sao Luiz do Anaua', 'Caracarai', 'Caroebe'],\n",
    "    'Rorainopolis': ['Caracarai', 'Sao Luiz do Anaua', 'Sao Joao da Baliza'],\n",
    "    'Sao Luiz do Anaua': ['Caracarai', 'Sao Joao da Baliza', 'Rorainopolis'],\n",
    "}\n",
    "\n",
    "class Problema:\n",
    "    def __init__(self, bordas, cores):\n",
    "        # bordas é um dicionário onde cada chave é uma região\n",
    "        # e seu valor é uma lista de suas regiões fronteiriças\n",
    "        self.bordas = bordas\n",
    "\n",
    "        # cores é uma lista com as 4 cores a serem usadas na coloração\n",
    "        self.cores = cores\n",
    "\n",
    "class No:\n",
    "    def __init__(self, mapa, regiao, cor):\n",
    "        # mapa é um dicionario\n",
    "        # cada chave é uma região, seu valor é sua cor atual\n",
    "        # ex: {'São Paulo': 'azul', 'Paraíba': 'vermelho'}\n",
    "        # representa diferentes estados do sistema\n",
    "        self.mapa = deepcopy(mapa)\n",
    "\n",
    "        # ao criar um novo nó, passando uma região e uma cor,\n",
    "        # o nó é criado com a coloração atualizada\n",
    "        self.mapa[regiao] = cor\n",
    "\n",
    "    def __str__(self):\n",
    "        string = ''\n",
    "        for regiao in self.mapa:\n",
    "            if self.mapa[regiao] != '':\n",
    "                string = string + f'{regiao}: {self.mapa[regiao]}\\n'\n",
    "        return string\n",
    "\n",
    "    def __repr__(self):\n",
    "        return self.__str__()\n",
    "    \n",
    "    # Ramifica o nó, método a ser chamado na busca\n",
    "    # retorna uma lista com os filhos do nó\n",
    "    def filhos(self, problema, proxima_regiao):\n",
    "        filhos = []\n",
    "        for cor in problema.cores:\n",
    "            filho = No(self.mapa, proxima_regiao, cor)\n",
    "            filhos.append(filho)\n",
    "        return filhos\n",
    "    \n",
    "    # varre o mapa, verifica se há regiões fronteiriças com a mesma cor\n",
    "    # será usado para podar nós com estados inviáveis\n",
    "    def is_viavel(problema):\n",
    "        pass\n",
    "\n",
    "    # varre o mapa, verifica se todas as regiões estão preenchidas\n",
    "    def is_objetivo():\n",
    "        pass\n",
    "\n",
    "# classe para realizar a busca\n",
    "class Coloracao:\n",
    "    def __init__(self, problema):\n",
    "        self.problema = problema\n",
    "        self.fronteira = [] \n",
    "        #  fronteira do problema de busca\n",
    "\n",
    "        self.status = 'Coloração iniciando'\n",
    "        # status possíveis: 'Coloração iniciando', 'Coloração em andamento', \n",
    "        # 'Coloração finalizada com sucesso', 'Coloração sem sucesso'\n",
    "\n",
    "        # mapa é um dicionário com todas as regiões e suas cores\n",
    "        # começa em branco\n",
    "        # representa o estado inicial do sistema\n",
    "        self.mapa = {}\n",
    "        for regiao in self.problema.bordas:\n",
    "            self.mapa[regiao] = ''\n",
    "\n",
    "    def passo(self):\n",
    "        if self.status == 'Coloração iniciando':\n",
    "            primeira_região = list(self.mapa.keys())[0]\n",
    "            # pegamos a primeira região do dicionário, que está todo em branco\n",
    "\n",
    "            # criaremos 4 nós, para as 4 possíveis cores para a primeira região\n",
    "            for cor in self.problema.cores:\n",
    "                novo_no = No(self.mapa, primeira_região, cor)\n",
    "                self.fronteira.append(novo_no)\n",
    "\n",
    "            return\n",
    "\n",
    "        if self.status == 'Coloração finalizada':\n",
    "            print('Coloração finalizada')\n",
    "            return\n",
    "        \n",
    "        try:\n",
    "            proximo_no = self.fronteira.pop(-1)\n",
    "        except IndexError:\n",
    "            self.situacao = 'Coloração sem sucesso'\n",
    "            return\n",
    "\n",
    "        proxima_regiao = next(regiao for regiao in proximo_no.mapa if proximo_no.mapa[regiao] == '')\n",
    "        # se der erro, é pq o mapa está cheio\n",
    "\n",
    "        for filho in proximo_no.filhos(self.problema, proxima_regiao):\n",
    "            # fazer teste de bordas antes do append\n",
    "            # \n",
    "            # tem que ser um método dentro de nó, que retorna true or false\n",
    "            # if filho.teste()\n",
    "            # se passar no teste, append o filho\n",
    "            self.fronteira.append(filho)\n",
    "        \n",
    "        self.indice += 1"
   ]
  },
  {
   "cell_type": "code",
   "execution_count": 3,
   "metadata": {},
   "outputs": [
    {
     "data": {
      "text/plain": [
       "'Pacaraima'"
      ]
     },
     "execution_count": 3,
     "metadata": {},
     "output_type": "execute_result"
    }
   ],
   "source": [
    "list(Roraima.keys())[1]"
   ]
  },
  {
   "cell_type": "code",
   "execution_count": 7,
   "metadata": {},
   "outputs": [],
   "source": [
    "prob_ex = Problema(Roraima, ['branco', 'verde', 'azul', 'cinza'])\n",
    "col_ex = Coloracao(prob_ex)\n",
    "no_1 = No(col_ex.mapa, 'Uiramuta', 'branco')"
   ]
  },
  {
   "cell_type": "code",
   "execution_count": 25,
   "metadata": {},
   "outputs": [
    {
     "data": {
      "text/plain": [
       "'ops'"
      ]
     },
     "execution_count": 25,
     "metadata": {},
     "output_type": "execute_result"
    }
   ],
   "source": [
    "try:\n",
    "    proxima_regiao = next(regiao for regiao in no_1.mapa if no_1.mapa[regiao] == '')\n",
    "except StopIteration:\n",
    "    proxima_regiao = \"ops\"\n",
    "\n",
    "proxima_regiao"
   ]
  },
  {
   "cell_type": "code",
   "execution_count": 19,
   "metadata": {},
   "outputs": [
    {
     "data": {
      "text/plain": [
       "['branco', 'verde', 'azul', 'cinza']"
      ]
     },
     "execution_count": 19,
     "metadata": {},
     "output_type": "execute_result"
    }
   ],
   "source": [
    "col_ex.problema.cores"
   ]
  },
  {
   "cell_type": "code",
   "execution_count": 11,
   "metadata": {},
   "outputs": [
    {
     "data": {
      "text/plain": [
       "[Uiramuta: branco\n",
       " Pacaraima: branco,\n",
       " Uiramuta: branco\n",
       " Pacaraima: verde,\n",
       " Uiramuta: branco\n",
       " Pacaraima: azul,\n",
       " Uiramuta: branco\n",
       " Pacaraima: cinza]"
      ]
     },
     "execution_count": 11,
     "metadata": {},
     "output_type": "execute_result"
    }
   ],
   "source": [
    "filhos = no_1.filhos(prob_ex)\n",
    "filhos"
   ]
  },
  {
   "cell_type": "code",
   "execution_count": 15,
   "metadata": {},
   "outputs": [
    {
     "data": {
      "text/plain": [
       "Uiramuta: branco"
      ]
     },
     "execution_count": 15,
     "metadata": {},
     "output_type": "execute_result"
    }
   ],
   "source": [
    "no_1"
   ]
  },
  {
   "cell_type": "code",
   "execution_count": 18,
   "metadata": {},
   "outputs": [
    {
     "ename": "StopIteration",
     "evalue": "",
     "output_type": "error",
     "traceback": [
      "\u001b[0;31m---------------------------------------------------------------------------\u001b[0m",
      "\u001b[0;31mStopIteration\u001b[0m                             Traceback (most recent call last)",
      "\u001b[1;32m/home/raquel/Intro_IA/testes.ipynb Cell 9\u001b[0m in \u001b[0;36m<cell line: 1>\u001b[0;34m()\u001b[0m\n\u001b[0;32m----> <a href='vscode-notebook-cell:/home/raquel/Intro_IA/testes.ipynb#X22sZmlsZQ%3D%3D?line=0'>1</a>\u001b[0m proxima_regiao \u001b[39m=\u001b[39m \u001b[39mnext\u001b[39;49m(regiao \u001b[39mfor\u001b[39;49;00m regiao \u001b[39min\u001b[39;49;00m no_1\u001b[39m.\u001b[39;49mmapa \u001b[39mif\u001b[39;49;00m no_1\u001b[39m.\u001b[39;49mmapa[regiao] \u001b[39m==\u001b[39;49m \u001b[39m'\u001b[39;49m\u001b[39maa\u001b[39;49m\u001b[39m'\u001b[39;49m)\n\u001b[1;32m      <a href='vscode-notebook-cell:/home/raquel/Intro_IA/testes.ipynb#X22sZmlsZQ%3D%3D?line=1'>2</a>\u001b[0m proxima_regiao\n",
      "\u001b[0;31mStopIteration\u001b[0m: "
     ]
    }
   ],
   "source": [
    "proxima_regiao = next(regiao for regiao in no_1.mapa if no_1.mapa[regiao] == 'aa')\n",
    "proxima_regiao"
   ]
  },
  {
   "cell_type": "code",
   "execution_count": 14,
   "metadata": {},
   "outputs": [],
   "source": [
    "netos = []\n",
    "for filho in filhos:\n",
    "    novos_netos = filho.filhos(prob_ex)\n",
    "    for neto in novos_netos:\n",
    "        netos.append(neto)\n",
    "# netos"
   ]
  }
 ],
 "metadata": {
  "kernelspec": {
   "display_name": "Python 3",
   "language": "python",
   "name": "python3"
  },
  "language_info": {
   "codemirror_mode": {
    "name": "ipython",
    "version": 3
   },
   "file_extension": ".py",
   "mimetype": "text/x-python",
   "name": "python",
   "nbconvert_exporter": "python",
   "pygments_lexer": "ipython3",
   "version": "3.8.10"
  },
  "orig_nbformat": 4
 },
 "nbformat": 4,
 "nbformat_minor": 2
}
