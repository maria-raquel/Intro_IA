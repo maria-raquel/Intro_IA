{
 "cells": [
  {
   "cell_type": "code",
   "execution_count": 1,
   "metadata": {},
   "outputs": [],
   "source": [
    "from copy import deepcopy"
   ]
  },
  {
   "cell_type": "code",
   "execution_count": 2,
   "metadata": {},
   "outputs": [],
   "source": [
    "Roraima = {\n",
    "    'Uiramuta': ['Pacaraima', 'Normandia'],\n",
    "    'Pacaraima': ['Uiramuta', 'Normandia', 'Boa Vista', 'Amajari'],\n",
    "    'Normandia': ['Uiramuta', 'Bonfim', 'Boa Vista', 'Pacaraima'],\n",
    "    'Boa Vista': ['Pacaraima', 'Normandia', 'Bonfim', 'Canta', \n",
    "                  'Mucajai', 'Alto Alegre', 'Amajari'],\n",
    "    'Bonfim': ['Caracarai', 'Canta', 'Boa Vista', 'Normandia'],\n",
    "    'Canta': ['Bonfim', 'Caracarai', 'Iracema', 'Mucajai', 'Boa Vista'],\n",
    "    'Amajari': ['Pacaraima', 'Boa Vista', 'Alto Alegre'],\n",
    "    'Alto Alegre': ['Amajari', 'Boa Vista', 'Mucajai', 'Iracema'],\n",
    "    'Mucajai': ['Alto Alegre', 'Boa Vista', 'Canta', 'Iracema'],\n",
    "    'Iracema': ['Alto Alegre', 'Mucajai', 'Canta', 'Caracarai'],\n",
    "    'Caracarai': ['Iracema', 'Canta', 'Bonfim', 'Caroebe', 'Sao Joao da Baliza', \n",
    "                  'Sao Luiz do Anaua', 'Rorainopolis'],\n",
    "    'Caroebe': ['Sao Joao da Baliza', 'Caracarai'],\n",
    "    'Sao Joao da Baliza': ['Rorainopolis', 'Sao Luiz do Anaua', 'Caracarai', 'Caroebe'],\n",
    "    'Rorainopolis': ['Caracarai', 'Sao Luiz do Anaua', 'Sao Joao da Baliza'],\n",
    "    'Sao Luiz do Anaua': ['Caracarai', 'Sao Joao da Baliza', 'Rorainopolis'],\n",
    "}\n",
    "\n",
    "class Problema:\n",
    "    def __init__(self, bordas, cores):\n",
    "        # bordas é um dicionário onde cada chave é uma região\n",
    "        # e seu valor é uma lista de suas regiões fronteiriças\n",
    "        self.bordas = bordas\n",
    "\n",
    "        # cores é uma lista com as 4 cores a serem usadas na coloração\n",
    "        self.cores = cores\n",
    "\n",
    "class No:\n",
    "    def __init__(self, mapa, regiao, cor):\n",
    "        # mapa é um dicionario\n",
    "        # cada chave é uma região, seu valor é sua cor atual\n",
    "        # representa diferentes estados do sistema\n",
    "        self.mapa = deepcopy(mapa)\n",
    "\n",
    "        # ao criar um novo nó, passando uma região e uma cor,\n",
    "        # o nó é criado com a coloração atualizada\n",
    "        self.mapa[regiao] = cor\n",
    "\n",
    "    def __str__(self):\n",
    "        string = ''\n",
    "        for regiao in self.mapa:\n",
    "            if self.mapa[regiao] != '':\n",
    "                string = string + f'{regiao}: {self.mapa[regiao]}\\n'\n",
    "        return string\n",
    "\n",
    "    def __repr__(self):\n",
    "        return self.__str__()\n",
    "    \n",
    "    def filhos(self, cores, proxima_regiao):\n",
    "        filhos = []\n",
    "        for cor in cores:\n",
    "            filho = No(self.mapa, proxima_regiao, cor)\n",
    "            filhos.append(filho)\n",
    "        return filhos\n",
    "\n",
    "class Coloracao:\n",
    "    def __init__(self, problema):\n",
    "        self.problema = problema\n",
    "        self.fronteira = []\n",
    "        self.status = 'Coloração iniciando'\n",
    "        # status possíveis: 'Coloração iniciando', 'Coloração em andamento', 'Coloração finalizada'\n",
    "\n",
    "        self.indice = 0\n",
    "        # o indice guardará a posição da próxima região a ser colorida na busca\n",
    "\n",
    "        # mapa é um dicionário com todas as regiões e suas cores\n",
    "        # começa em branco\n",
    "        # representa o estado inicial do sistema\n",
    "        self.mapa = {}\n",
    "        for regiao in self.problema.bordas:\n",
    "            self.mapa[regiao] = ''\n",
    "\n",
    "    def passo(self):\n",
    "        if self.status == 'Coloração finalizada':\n",
    "            print('Coloração finalizada')\n",
    "            return\n",
    "        \n",
    "        try:\n",
    "            no = self.fronteira.pop(-1)\n",
    "        except IndexError:\n",
    "            self.situacao = 'Coloração finalizada'\n",
    "            return\n",
    "\n",
    "        for filho in no.filhos(self.problema.cores, self.problema.bordas[self.problema.mapa]):\n",
    "            self.fronteira.append(filho)\n",
    "            pass"
   ]
  },
  {
   "cell_type": "code",
   "execution_count": 3,
   "metadata": {},
   "outputs": [
    {
     "data": {
      "text/plain": [
       "Uiramuta: branco"
      ]
     },
     "execution_count": 3,
     "metadata": {},
     "output_type": "execute_result"
    }
   ],
   "source": [
    "prob_ex = Problema(Roraima, ['branco', 'verde', 'azul', 'cinza'])\n",
    "col_ex = Coloracao(prob_ex)\n",
    "no_1 = No(col_ex.mapa, 'Uiramuta', 'branco')\n",
    "\n",
    "no_1"
   ]
  },
  {
   "cell_type": "code",
   "execution_count": 4,
   "metadata": {},
   "outputs": [],
   "source": [
    "filhos = no_1.filhos(['branco', 'verde', 'azul', 'cinza'], 'Pacaraima')"
   ]
  },
  {
   "cell_type": "code",
   "execution_count": 5,
   "metadata": {},
   "outputs": [
    {
     "data": {
      "text/plain": [
       "Uiramuta: branco\n",
       "Pacaraima: branco"
      ]
     },
     "execution_count": 5,
     "metadata": {},
     "output_type": "execute_result"
    }
   ],
   "source": [
    "filhos[0]"
   ]
  },
  {
   "cell_type": "code",
   "execution_count": 6,
   "metadata": {},
   "outputs": [
    {
     "data": {
      "text/plain": [
       "Uiramuta: branco\n",
       "Pacaraima: verde"
      ]
     },
     "execution_count": 6,
     "metadata": {},
     "output_type": "execute_result"
    }
   ],
   "source": [
    "filhos[1]"
   ]
  },
  {
   "cell_type": "code",
   "execution_count": 7,
   "metadata": {},
   "outputs": [
    {
     "data": {
      "text/plain": [
       "Uiramuta: branco\n",
       "Pacaraima: azul"
      ]
     },
     "execution_count": 7,
     "metadata": {},
     "output_type": "execute_result"
    }
   ],
   "source": [
    "filhos[2]"
   ]
  },
  {
   "cell_type": "code",
   "execution_count": 8,
   "metadata": {},
   "outputs": [
    {
     "data": {
      "text/plain": [
       "Uiramuta: branco\n",
       "Pacaraima: cinza"
      ]
     },
     "execution_count": 8,
     "metadata": {},
     "output_type": "execute_result"
    }
   ],
   "source": [
    "filhos[3]"
   ]
  },
  {
   "cell_type": "code",
   "execution_count": 12,
   "metadata": {},
   "outputs": [],
   "source": [
    "netos = []\n",
    "for filho in filhos:\n",
    "    netos.append(filho.filhos(['branco', 'verde', 'azul', 'cinza'], 'Normandia'))"
   ]
  },
  {
   "cell_type": "code",
   "execution_count": 17,
   "metadata": {},
   "outputs": [
    {
     "name": "stdout",
     "output_type": "stream",
     "text": [
      "Uiramuta: branco\n",
      "Pacaraima: branco\n",
      "Normandia: branco\n",
      "\n",
      "Uiramuta: branco\n",
      "Pacaraima: branco\n",
      "Normandia: verde\n",
      "\n",
      "Uiramuta: branco\n",
      "Pacaraima: branco\n",
      "Normandia: azul\n",
      "\n",
      "Uiramuta: branco\n",
      "Pacaraima: branco\n",
      "Normandia: cinza\n",
      "\n",
      "Uiramuta: branco\n",
      "Pacaraima: verde\n",
      "Normandia: branco\n",
      "\n",
      "Uiramuta: branco\n",
      "Pacaraima: verde\n",
      "Normandia: verde\n",
      "\n",
      "Uiramuta: branco\n",
      "Pacaraima: verde\n",
      "Normandia: azul\n",
      "\n",
      "Uiramuta: branco\n",
      "Pacaraima: verde\n",
      "Normandia: cinza\n",
      "\n",
      "Uiramuta: branco\n",
      "Pacaraima: azul\n",
      "Normandia: branco\n",
      "\n",
      "Uiramuta: branco\n",
      "Pacaraima: azul\n",
      "Normandia: verde\n",
      "\n",
      "Uiramuta: branco\n",
      "Pacaraima: azul\n",
      "Normandia: azul\n",
      "\n",
      "Uiramuta: branco\n",
      "Pacaraima: azul\n",
      "Normandia: cinza\n",
      "\n",
      "Uiramuta: branco\n",
      "Pacaraima: cinza\n",
      "Normandia: branco\n",
      "\n",
      "Uiramuta: branco\n",
      "Pacaraima: cinza\n",
      "Normandia: verde\n",
      "\n",
      "Uiramuta: branco\n",
      "Pacaraima: cinza\n",
      "Normandia: azul\n",
      "\n",
      "Uiramuta: branco\n",
      "Pacaraima: cinza\n",
      "Normandia: cinza\n",
      "\n"
     ]
    }
   ],
   "source": [
    "for i in range(4):\n",
    "    for j in range(4):\n",
    "        print(netos[i][j])"
   ]
  }
 ],
 "metadata": {
  "kernelspec": {
   "display_name": "Python 3",
   "language": "python",
   "name": "python3"
  },
  "language_info": {
   "codemirror_mode": {
    "name": "ipython",
    "version": 3
   },
   "file_extension": ".py",
   "mimetype": "text/x-python",
   "name": "python",
   "nbconvert_exporter": "python",
   "pygments_lexer": "ipython3",
   "version": "3.8.10"
  },
  "orig_nbformat": 4
 },
 "nbformat": 4,
 "nbformat_minor": 2
}
