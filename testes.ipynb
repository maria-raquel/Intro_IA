{
 "cells": [
  {
   "cell_type": "code",
   "execution_count": 1,
   "metadata": {},
   "outputs": [],
   "source": [
    "from copy import deepcopy"
   ]
  },
  {
   "cell_type": "code",
   "execution_count": 13,
   "metadata": {},
   "outputs": [],
   "source": [
    "Roraima = {\n",
    "    'Uiramuta': ['Pacaraima', 'Normandia'],\n",
    "    'Pacaraima': ['Uiramuta', 'Normandia', 'Boa Vista', 'Amajari'],\n",
    "    'Normandia': ['Uiramuta', 'Bonfim', 'Boa Vista', 'Pacaraima'],\n",
    "    'Boa Vista': ['Pacaraima', 'Normandia', 'Bonfim', 'Canta', \n",
    "                  'Mucajai', 'Alto Alegre', 'Amajari'],\n",
    "    'Bonfim': ['Caracarai', 'Canta', 'Boa Vista', 'Normandia'],\n",
    "    'Canta': ['Bonfim', 'Caracarai', 'Iracema', 'Mucajai', 'Boa Vista'],\n",
    "    'Amajari': ['Pacaraima', 'Boa Vista', 'Alto Alegre'],\n",
    "    'Alto Alegre': ['Amajari', 'Boa Vista', 'Mucajai', 'Iracema'],\n",
    "    'Mucajai': ['Alto Alegre', 'Boa Vista', 'Canta', 'Iracema'],\n",
    "    'Iracema': ['Alto Alegre', 'Mucajai', 'Canta', 'Caracarai'],\n",
    "    'Caracarai': ['Iracema', 'Canta', 'Bonfim', 'Caroebe', 'Sao Joao da Baliza', \n",
    "                  'Sao Luiz do Anaua', 'Rorainopolis'],\n",
    "    'Caroebe': ['Sao Joao da Baliza', 'Caracarai'],\n",
    "    'Sao Joao da Baliza': ['Rorainopolis', 'Sao Luiz do Anaua', 'Caracarai', 'Caroebe'],\n",
    "    'Rorainopolis': ['Caracarai', 'Sao Luiz do Anaua', 'Sao Joao da Baliza'],\n",
    "    'Sao Luiz do Anaua': ['Caracarai', 'Sao Joao da Baliza', 'Rorainopolis'],\n",
    "}\n",
    "\n",
    "class Problema:\n",
    "    def __init__(self, bordas, cores):\n",
    "        # bordas é um dicionário onde cada chave é uma região\n",
    "        # e seu valor é uma lista de suas regiões fronteiriças\n",
    "        self.bordas = bordas\n",
    "\n",
    "        # cores é uma lista com as 4 cores a serem usadas na coloração\n",
    "        self.cores = cores\n",
    "\n",
    "class No:\n",
    "    def __init__(self, mapa, regiao, cor):\n",
    "        # mapa é um dicionario\n",
    "        # cada chave é uma região, seu valor é sua cor atual\n",
    "        # ex: {'São Paulo': 'azul', 'Paraíba': 'vermelho'}\n",
    "        # representa diferentes estados do sistema\n",
    "        self.mapa = deepcopy(mapa)\n",
    "\n",
    "        # ao criar um novo nó, passando uma região e uma cor,\n",
    "        # o nó é criado com a coloração atualizada\n",
    "        self.mapa[regiao] = cor\n",
    "\n",
    "    def __str__(self):\n",
    "        # só imprime as regiões preenchidas, por legibilidade\n",
    "        string = ''\n",
    "        for regiao in self.mapa:\n",
    "            if self.mapa[regiao] != '':\n",
    "                string = string + f'{regiao}: {self.mapa[regiao]}\\n'\n",
    "        return string\n",
    "\n",
    "    def __repr__(self):\n",
    "        return self.__str__()\n",
    "    \n",
    "    # Ramifica o nó, método a ser chamado na busca\n",
    "    # retorna uma lista com os filhos do nó\n",
    "    def filhos(self, problema, proxima_regiao):\n",
    "        filhos = []\n",
    "        for cor in problema.cores:\n",
    "            filho = No(self.mapa, proxima_regiao, cor)\n",
    "            filhos.append(filho)\n",
    "        return filhos\n",
    "    \n",
    "    # varre o mapa, verifica se há regiões fronteiriças com a mesma cor\n",
    "    # será usado para podar nós com estados inviáveis\n",
    "    def is_viavel(self, problema):\n",
    "        for regiao in self.mapa:\n",
    "\n",
    "            if self.mapa[regiao] == '':\n",
    "                return True\n",
    "            \n",
    "            for borda in problema.bordas[regiao]:\n",
    "                if self.mapa[regiao] == self.mapa[borda]:\n",
    "                    return False\n",
    "                \n",
    "        return True\n",
    "\n",
    "    # varre o mapa, verifica se todas as regiões estão preenchidas\n",
    "    def is_preenchido(self):\n",
    "        for regiao in self.mapa:\n",
    "\n",
    "            if self.mapa[regiao] == '':\n",
    "                return False\n",
    "        \n",
    "        return True\n",
    "    \n",
    "    '''\n",
    "    is_viavel verifica se o nó respeita a restrição do problema: \n",
    "        não ter 4 cores iguais em regiões fronteiriças\n",
    "\n",
    "    is_preenchido verifica se o nó está completamente colorido mas\n",
    "        não verifica se o nó é viável\n",
    "        \n",
    "    é importante usar os métodos juntos para determinar se o nó representa\n",
    "        o estado objetivo\n",
    "    '''\n",
    "\n",
    "COLORACAO_INICIANDO = 1\n",
    "COLORACAO_EM_ANDAMENTO = 2\n",
    "COLORACAO_SUCESSO = 3\n",
    "COLORACAO_SEM_SUCESSO = 0\n",
    "\n",
    "# classe para realizar a busca\n",
    "class Coloracao:\n",
    "    def __init__(self, problema):\n",
    "        self.problema = problema\n",
    "        self.fronteira = [] \n",
    "        #  fronteira do problema de busca\n",
    "\n",
    "        self.status = COLORACAO_INICIANDO\n",
    "\n",
    "        # mapa é um dicionário com todas as regiões e suas cores\n",
    "        # começa em branco\n",
    "        # representa o estado inicial do sistema\n",
    "        self.mapa = {}\n",
    "        for regiao in self.problema.bordas:\n",
    "            self.mapa[regiao] = ''\n",
    "\n",
    "    def passo(self):\n",
    "        if self.status == COLORACAO_INICIANDO:\n",
    "\n",
    "            primeira_região = list(self.mapa.keys())[0]\n",
    "            # pegamos a primeira região do dicionário, que está todo em branco\n",
    "\n",
    "            # criaremos 4 nós, para as 4 possíveis cores para a primeira região\n",
    "            for cor in self.problema.cores:\n",
    "                novo_no = No(self.mapa, primeira_região, cor)\n",
    "                self.fronteira.append(novo_no)\n",
    "            \n",
    "            self.status = COLORACAO_EM_ANDAMENTO\n",
    "\n",
    "            return\n",
    "        \n",
    "        try:\n",
    "            proximo_no = self.fronteira.pop(-1)\n",
    "        except IndexError:\n",
    "            self.situacao = COLORACAO_SEM_SUCESSO\n",
    "            return\n",
    "\n",
    "        proxima_regiao = next(regiao for regiao in proximo_no.mapa if proximo_no.mapa[regiao] == '')\n",
    "        # se der erro, é pq o mapa está cheio\n",
    "\n",
    "        for filho in proximo_no.filhos(self.problema, proxima_regiao):\n",
    "\n",
    "            # verificando se o filho é viavel antes de adicioná-lo na fronteira\n",
    "            if filho.is_viavel(self.problema):\n",
    "\n",
    "                # verificando se o filho é objetivo\n",
    "                if filho.is_preenchido():\n",
    "                    self.status = COLORACAO_SUCESSO\n",
    "                    self.mapa = filho.mapa\n",
    "                    return\n",
    "                \n",
    "                else: \n",
    "                    self.fronteira.append(filho)\n",
    "        \n",
    "        return\n",
    "    \n",
    "    def executar(self):\n",
    "        while self.status == COLORACAO_EM_ANDAMENTO or self.status == COLORACAO_INICIANDO:\n",
    "            self.passo()\n",
    "        return \n",
    "    \n",
    "    def show_status(self):\n",
    "        if self.status == COLORACAO_INICIANDO:\n",
    "            return 'Coloração iniciando'\n",
    "        elif self.status == COLORACAO_EM_ANDAMENTO:\n",
    "            return 'Coloração em andamento'\n",
    "        elif self.status == COLORACAO_SUCESSO:\n",
    "            return 'Coloração bem sucedida'\n",
    "        elif self.status == COLORACAO_SEM_SUCESSO:\n",
    "            return 'Coloração sem sucesso'\n",
    "        \n",
    "    def mapa_colorido(self):\n",
    "        for regiao in self.mapa:\n",
    "            print(f'{regiao}: {self.mapa[regiao]}')\n",
    "        return"
   ]
  },
  {
   "cell_type": "code",
   "execution_count": 14,
   "metadata": {},
   "outputs": [],
   "source": [
    "prob_ex = Problema(Roraima, ['branco', 'verde', 'azul', 'cinza'])\n",
    "col_ex = Coloracao(prob_ex)"
   ]
  },
  {
   "cell_type": "code",
   "execution_count": 15,
   "metadata": {},
   "outputs": [
    {
     "data": {
      "text/plain": [
       "'Coloração iniciando'"
      ]
     },
     "execution_count": 15,
     "metadata": {},
     "output_type": "execute_result"
    }
   ],
   "source": [
    "col_ex.show_status()"
   ]
  },
  {
   "cell_type": "code",
   "execution_count": 16,
   "metadata": {},
   "outputs": [],
   "source": [
    "col_ex.executar()"
   ]
  },
  {
   "cell_type": "code",
   "execution_count": 17,
   "metadata": {},
   "outputs": [
    {
     "data": {
      "text/plain": [
       "'Coloração bem sucedida'"
      ]
     },
     "execution_count": 17,
     "metadata": {},
     "output_type": "execute_result"
    }
   ],
   "source": [
    "col_ex.show_status()"
   ]
  },
  {
   "cell_type": "code",
   "execution_count": 18,
   "metadata": {},
   "outputs": [
    {
     "name": "stdout",
     "output_type": "stream",
     "text": [
      "Uiramuta: cinza\n",
      "Pacaraima: azul\n",
      "Normandia: verde\n",
      "Boa Vista: cinza\n",
      "Bonfim: azul\n",
      "Canta: verde\n",
      "Amajari: verde\n",
      "Alto Alegre: azul\n",
      "Mucajai: branco\n",
      "Iracema: cinza\n",
      "Caracarai: branco\n",
      "Caroebe: cinza\n",
      "Sao Joao da Baliza: azul\n",
      "Rorainopolis: cinza\n",
      "Sao Luiz do Anaua: verde\n"
     ]
    }
   ],
   "source": [
    "col_ex.mapa_colorido()"
   ]
  }
 ],
 "metadata": {
  "kernelspec": {
   "display_name": "Python 3",
   "language": "python",
   "name": "python3"
  },
  "language_info": {
   "codemirror_mode": {
    "name": "ipython",
    "version": 3
   },
   "file_extension": ".py",
   "mimetype": "text/x-python",
   "name": "python",
   "nbconvert_exporter": "python",
   "pygments_lexer": "ipython3",
   "version": "3.8.10"
  },
  "orig_nbformat": 4
 },
 "nbformat": 4,
 "nbformat_minor": 2
}
