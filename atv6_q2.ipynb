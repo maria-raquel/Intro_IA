{
 "cells": [
  {
   "attachments": {},
   "cell_type": "markdown",
   "metadata": {},
   "source": [
    "#### Atividade 6 - Algoritmos de busca sem informação\n",
    "\n",
    "##### 2. Usando a implementação da busca em largura, crie uma simiar para a busca em profundidade."
   ]
  },
  {
   "cell_type": "code",
   "execution_count": 1,
   "metadata": {},
   "outputs": [],
   "source": [
    "import busca_largura as bl"
   ]
  },
  {
   "cell_type": "code",
   "execution_count": 9,
   "metadata": {},
   "outputs": [],
   "source": [
    "class BuscaProfundidade:\n",
    "    def __init__(self, problema):\n",
    "        self.problema = problema\n",
    "        self.fronteira = [problema.inicial]\n",
    "        self.visitados = [problema.inicial.estado]\n",
    "        self.solucao = []\n",
    "        self.situacao = bl.BUSCA_INICIANDO\n",
    "\n",
    "    def executar(self):\n",
    "        while self.situacao != bl.BUSCA_FALHOU and self.situacao != bl.BUSCA_SUCESSO:\n",
    "            self.passo_busca()\n",
    "\n",
    "        if self.situacao == bl.BUSCA_FALHOU:\n",
    "            print(\"Busca falhou\")\n",
    "        elif self.situacao == bl.BUSCA_SUCESSO:\n",
    "            print(\"Busca teve sucesso\")\n",
    "            print(f\"Solucao: {self.solucao}\")\n",
    "\n",
    "        return\n",
    "\n",
    "    def passo_busca(self):\n",
    "        if (self.situacao == bl.BUSCA_FALHOU):\n",
    "            print(\"Busca falhou\")\n",
    "            return\n",
    "\n",
    "        if (self.situacao == bl.BUSCA_SUCESSO):\n",
    "            print(\"Busca chegou ao objetivo com sucesso\")\n",
    "            return\n",
    "\n",
    "        try:\n",
    "            no = self.fronteira.pop(-1)\n",
    "            # a diferença entre as buscas em profundidade e em largura ocorre aqui\n",
    "            # em largura, removemos o nó da frente, pois inserimos nós no fim (FIFO)\n",
    "            # em profundidade, removemos o nó do fim, pois inserimos nós no fim (LIFO)\n",
    "        except IndexError:\n",
    "            self.situacao = bl.BUSCA_FALHOU\n",
    "            return\n",
    "\n",
    "        # faz teste do objetivo\n",
    "        if self.problema.objetivo(no):\n",
    "            self.situacao = bl.BUSCA_SUCESSO\n",
    "            self.solucao = no.constroi_solucao()\n",
    "            return\n",
    "\n",
    "        # obtem os filhos do no\n",
    "        for filho in no.filhos(self.problema):\n",
    "            if not (filho in self.fronteira) and not (filho.estado in self.visitados):\n",
    "                self.fronteira.append(filho)\n",
    "                self.visitados.append(filho.estado)\n",
    "\n",
    "        return"
   ]
  }
 ],
 "metadata": {
  "kernelspec": {
   "display_name": "Python 3",
   "language": "python",
   "name": "python3"
  },
  "language_info": {
   "codemirror_mode": {
    "name": "ipython",
    "version": 3
   },
   "file_extension": ".py",
   "mimetype": "text/x-python",
   "name": "python",
   "nbconvert_exporter": "python",
   "pygments_lexer": "ipython3",
   "version": "3.8.10"
  },
  "orig_nbformat": 4
 },
 "nbformat": 4,
 "nbformat_minor": 2
}
