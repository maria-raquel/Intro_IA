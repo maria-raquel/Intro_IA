{
 "cells": [
  {
   "attachments": {},
   "cell_type": "markdown",
   "metadata": {},
   "source": [
    "#### Atividade 6 - Algoritmos de busca sem informação\n",
    "\n",
    "grupo: João Honorato, Maria Raquel Martinez, Samila Garrido\n",
    "\n",
    "2. Usando a implementação da busca em largura, crie uma simiar para a busca em profundidade."
   ]
  },
  {
   "cell_type": "code",
   "execution_count": 1,
   "metadata": {},
   "outputs": [],
   "source": [
    "import busca_largura as bl"
   ]
  },
  {
   "cell_type": "code",
   "execution_count": 2,
   "metadata": {},
   "outputs": [],
   "source": [
    "# Criando uma classe BuscaProfundidade, baseada na BuscaLargura\n",
    "\n",
    "class BuscaProfundidade:\n",
    "    def __init__(self, problema):\n",
    "        self.problema = problema\n",
    "        self.fronteira = [problema.inicial]\n",
    "        self.visitados = [problema.inicial.estado]\n",
    "        self.solucao = []\n",
    "        self.situacao = bl.BUSCA_INICIANDO\n",
    "\n",
    "    def executar(self):\n",
    "        while self.situacao != bl.BUSCA_FALHOU and self.situacao != bl.BUSCA_SUCESSO:\n",
    "            self.passo_busca()\n",
    "\n",
    "        if self.situacao == bl.BUSCA_FALHOU:\n",
    "            print(\"Busca falhou\")\n",
    "        elif self.situacao == bl.BUSCA_SUCESSO:\n",
    "            print(\"Busca teve sucesso\")\n",
    "            print(f\"Solucao: {self.solucao}\")\n",
    "\n",
    "        return\n",
    "\n",
    "    def passo_busca(self):\n",
    "        if (self.situacao == bl.BUSCA_FALHOU):\n",
    "            print(\"Busca falhou\")\n",
    "            return\n",
    "\n",
    "        if (self.situacao == bl.BUSCA_SUCESSO):\n",
    "            print(\"Busca chegou ao objetivo com sucesso\")\n",
    "            return\n",
    "\n",
    "        try:\n",
    "            no = self.fronteira.pop(-1)\n",
    "            # a diferença entre as buscas em profundidade e em largura ocorre aqui\n",
    "            # em largura, removemos o nó da frente, pois inserimos nós no fim (FIFO)\n",
    "            # em profundidade, removemos o nó do fim, pois inserimos nós no fim (LIFO)\n",
    "        except IndexError:\n",
    "            self.situacao = bl.BUSCA_FALHOU\n",
    "            return\n",
    "\n",
    "        # faz teste do objetivo\n",
    "        if self.problema.objetivo(no):\n",
    "            self.situacao = bl.BUSCA_SUCESSO\n",
    "            self.solucao = no.constroi_solucao()\n",
    "            return\n",
    "\n",
    "        # obtem os filhos do no\n",
    "        for filho in no.filhos(self.problema):\n",
    "            if not (filho in self.fronteira) and not (filho.estado in self.visitados):\n",
    "                self.fronteira.append(filho)\n",
    "                self.visitados.append(filho.estado)\n",
    "\n",
    "        return"
   ]
  },
  {
   "attachments": {},
   "cell_type": "markdown",
   "metadata": {},
   "source": [
    "3. Usando a implementação da busca em profundidade, resolva o problema de busca de rotas de Arad a Bucareste. Mostre o passo a passo da resolução e como as buscas diferem."
   ]
  },
  {
   "cell_type": "code",
   "execution_count": 3,
   "metadata": {},
   "outputs": [],
   "source": [
    "no_Arad = bl.No('Arad', 0, None, None)\n",
    "problema_Arad_Bucareste = bl.Problema(bl.estados_romenia, no_Arad, lambda no: no.estado == 'Bucharest')\n",
    "\n",
    "busca_largura_AB = bl.BuscaLargura(problema_Arad_Bucareste)\n",
    "busca_profundidade_AB = BuscaProfundidade(problema_Arad_Bucareste)"
   ]
  },
  {
   "cell_type": "code",
   "execution_count": 4,
   "metadata": {},
   "outputs": [
    {
     "name": "stdout",
     "output_type": "stream",
     "text": [
      "[(Zerind, 75), (Sibiu, 140), (Timisoara, 118)]\n",
      "[(Sibiu, 140), (Timisoara, 118), (Oradea, 146)]\n",
      "[(Timisoara, 118), (Oradea, 146), (Fagaras, 239), (Rimnicu Vilcea, 220)]\n",
      "[(Oradea, 146), (Fagaras, 239), (Rimnicu Vilcea, 220), (Lugoj, 229)]\n",
      "[(Fagaras, 239), (Rimnicu Vilcea, 220), (Lugoj, 229)]\n",
      "[(Rimnicu Vilcea, 220), (Lugoj, 229), (Bucharest, 450)]\n",
      "[(Lugoj, 229), (Bucharest, 450), (Craiova, 366), (Pitesti, 317)]\n",
      "[(Bucharest, 450), (Craiova, 366), (Pitesti, 317), (Mehadia, 299)]\n",
      "[(Craiova, 366), (Pitesti, 317), (Mehadia, 299)]\n",
      "Busca chegou ao objetivo com sucesso\n"
     ]
    }
   ],
   "source": [
    "while busca_largura_AB.situacao != bl.BUSCA_FALHOU and busca_largura_AB.situacao != bl.BUSCA_SUCESSO:\n",
    "    busca_largura_AB.passo_busca()\n",
    "    print(busca_largura_AB.fronteira)\n",
    "busca_largura_AB.passo_busca()"
   ]
  },
  {
   "cell_type": "code",
   "execution_count": 5,
   "metadata": {},
   "outputs": [
    {
     "name": "stdout",
     "output_type": "stream",
     "text": [
      "[(Zerind, 75), (Sibiu, 140), (Timisoara, 118)]\n",
      "[(Zerind, 75), (Sibiu, 140), (Lugoj, 229)]\n",
      "[(Zerind, 75), (Sibiu, 140), (Mehadia, 299)]\n",
      "[(Zerind, 75), (Sibiu, 140), (Drobeta, 374)]\n",
      "[(Zerind, 75), (Sibiu, 140), (Craiova, 494)]\n",
      "[(Zerind, 75), (Sibiu, 140), (Rimnicu Vilcea, 640), (Pitesti, 632)]\n",
      "[(Zerind, 75), (Sibiu, 140), (Rimnicu Vilcea, 640), (Bucharest, 733)]\n",
      "[(Zerind, 75), (Sibiu, 140), (Rimnicu Vilcea, 640)]\n",
      "Busca chegou ao objetivo com sucesso\n"
     ]
    }
   ],
   "source": [
    "while busca_profundidade_AB.situacao != bl.BUSCA_FALHOU and busca_profundidade_AB.situacao != bl.BUSCA_SUCESSO:\n",
    "    busca_profundidade_AB.passo_busca()\n",
    "    print(busca_profundidade_AB.fronteira)\n",
    "busca_profundidade_AB.passo_busca()"
   ]
  },
  {
   "attachments": {},
   "cell_type": "markdown",
   "metadata": {},
   "source": [
    "Observamos que a busca em profundidade chegou ao objetivo em menos passos"
   ]
  },
  {
   "cell_type": "code",
   "execution_count": 6,
   "metadata": {},
   "outputs": [
    {
     "data": {
      "text/plain": [
       "[(Arad, 0), (Sibiu, 140), (Fagaras, 239), (Bucharest, 450)]"
      ]
     },
     "execution_count": 6,
     "metadata": {},
     "output_type": "execute_result"
    }
   ],
   "source": [
    "busca_largura_AB.solucao"
   ]
  },
  {
   "cell_type": "code",
   "execution_count": 7,
   "metadata": {},
   "outputs": [
    {
     "data": {
      "text/plain": [
       "[(Arad, 0),\n",
       " (Timisoara, 118),\n",
       " (Lugoj, 229),\n",
       " (Mehadia, 299),\n",
       " (Drobeta, 374),\n",
       " (Craiova, 494),\n",
       " (Pitesti, 632),\n",
       " (Bucharest, 733)]"
      ]
     },
     "execution_count": 7,
     "metadata": {},
     "output_type": "execute_result"
    }
   ],
   "source": [
    "busca_profundidade_AB.solucao"
   ]
  },
  {
   "attachments": {},
   "cell_type": "markdown",
   "metadata": {},
   "source": [
    "Apesar de ter encontrado Bucareste em menos passos, a solução da busca em profundidade é mais comprida e custosa do que a escontrada pela busca em largura"
   ]
  }
 ],
 "metadata": {
  "kernelspec": {
   "display_name": "Python 3",
   "language": "python",
   "name": "python3"
  },
  "language_info": {
   "codemirror_mode": {
    "name": "ipython",
    "version": 3
   },
   "file_extension": ".py",
   "mimetype": "text/x-python",
   "name": "python",
   "nbconvert_exporter": "python",
   "pygments_lexer": "ipython3",
   "version": "3.8.10"
  },
  "orig_nbformat": 4
 },
 "nbformat": 4,
 "nbformat_minor": 2
}
