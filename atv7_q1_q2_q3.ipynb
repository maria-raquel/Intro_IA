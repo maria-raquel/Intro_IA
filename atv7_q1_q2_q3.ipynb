{
 "cells": [
  {
   "attachments": {},
   "cell_type": "markdown",
   "metadata": {},
   "source": [
    "#### Atividade 7 - Algoritmos A*\n",
    "\n",
    "grupo: João Honorato, Maria Raquel Martinez, Samila Garrido\n",
    "\n",
    "Link para a apresentção: https://youtu.be/XgxOOQKhsPw\n",
    "\n",
    "1. Implemente o Algoritmo A*\n",
    "\n",
    "Nossa implementação do A* encontra-se no módulo A_star, importado a seguir"
   ]
  },
  {
   "cell_type": "code",
   "execution_count": 16,
   "metadata": {},
   "outputs": [],
   "source": [
    "import A_star as As"
   ]
  },
  {
   "attachments": {},
   "cell_type": "markdown",
   "metadata": {},
   "source": [
    "2. Usando a implementação do A* desenvolvida para a questão anterior, resolva o problema de busca de rotas na Romênia (de Arad a Bucareste), usando os dados do livro (incluindo a função heurística). Mostre o passo a passo da solução."
   ]
  },
  {
   "cell_type": "code",
   "execution_count": 17,
   "metadata": {},
   "outputs": [
    {
     "data": {
      "text/plain": [
       "[(Arad, c = 0, d = 366)]"
      ]
     },
     "execution_count": 17,
     "metadata": {},
     "output_type": "execute_result"
    }
   ],
   "source": [
    "# instanciando o nó de origem, o problema e a busca\n",
    "Arad = As.No('Arad', 0, None, None)\n",
    "p_AB = As.Problema(As.estados_romenia, Arad, lambda no: no.estado == 'Bucharest')\n",
    "b_AB = As.A_Star(p_AB)\n",
    "\n",
    "# A fronteira começa apenas com Arad\n",
    "b_AB.fronteira"
   ]
  },
  {
   "cell_type": "code",
   "execution_count": 18,
   "metadata": {},
   "outputs": [
    {
     "name": "stdout",
     "output_type": "stream",
     "text": [
      "[(Sibiu, c = 140, d = 393), (Zerind, c = 75, d = 449), (Timisoara, c = 118, d = 447)]\n"
     ]
    }
   ],
   "source": [
    "# Arad é expandido e Sibiu, Zerind e Timisoara são adicionados\n",
    "b_AB.passo_busca()\n",
    "print(b_AB.fronteira)"
   ]
  },
  {
   "cell_type": "code",
   "execution_count": 19,
   "metadata": {},
   "outputs": [
    {
     "name": "stdout",
     "output_type": "stream",
     "text": [
      "[(Rimnicu Vilcea, c = 80, d = 273), (Fagaras, c = 99, d = 275), (Oradea, c = 151, d = 531), (Zerind, c = 75, d = 449), (Timisoara, c = 118, d = 447)]\n"
     ]
    }
   ],
   "source": [
    "# Sibiu é expandido e Rimnicu Vilcea, Fagaras e Oradea são adicionados\n",
    "b_AB.passo_busca()\n",
    "print(b_AB.fronteira)"
   ]
  },
  {
   "cell_type": "code",
   "execution_count": 20,
   "metadata": {},
   "outputs": [
    {
     "name": "stdout",
     "output_type": "stream",
     "text": [
      "[(Pitesti, c = 97, d = 197), (Craiova, c = 146, d = 306), (Fagaras, c = 99, d = 275), (Zerind, c = 75, d = 449), (Timisoara, c = 118, d = 447), (Oradea, c = 151, d = 531)]\n"
     ]
    }
   ],
   "source": [
    "# Rimnicu Vilcea é expandido e Pitesti e Craiova são adicionados\n",
    "b_AB.passo_busca()\n",
    "print(b_AB.fronteira)"
   ]
  },
  {
   "cell_type": "code",
   "execution_count": 21,
   "metadata": {},
   "outputs": [
    {
     "name": "stdout",
     "output_type": "stream",
     "text": [
      "[(Bucharest, c = 101, d = 101), (Craiova, c = 146, d = 306), (Fagaras, c = 99, d = 275), (Zerind, c = 75, d = 449), (Timisoara, c = 118, d = 447), (Oradea, c = 151, d = 531)]\n"
     ]
    }
   ],
   "source": [
    "# Pitesti é expandido e Bucareste é adicionado\n",
    "b_AB.passo_busca()\n",
    "print(b_AB.fronteira)"
   ]
  },
  {
   "cell_type": "code",
   "execution_count": 22,
   "metadata": {},
   "outputs": [
    {
     "name": "stdout",
     "output_type": "stream",
     "text": [
      "[(Fagaras, c = 99, d = 275), (Craiova, c = 146, d = 306), (Oradea, c = 151, d = 531), (Zerind, c = 75, d = 449), (Timisoara, c = 118, d = 447)]\n"
     ]
    }
   ],
   "source": [
    "# A busca escolhe Bucareste como o próximo nó\n",
    "b_AB.passo_busca()\n",
    "print(b_AB.fronteira)"
   ]
  },
  {
   "cell_type": "code",
   "execution_count": 26,
   "metadata": {},
   "outputs": [
    {
     "name": "stdout",
     "output_type": "stream",
     "text": [
      "Busca chegou ao objetivo com sucesso\n"
     ]
    },
    {
     "data": {
      "text/plain": [
       "[(Arad, c = 0, d = 366),\n",
       " (Sibiu, c = 140, d = 393),\n",
       " (Rimnicu Vilcea, c = 80, d = 273),\n",
       " (Pitesti, c = 97, d = 197),\n",
       " (Bucharest, c = 101, d = 101)]"
      ]
     },
     "execution_count": 26,
     "metadata": {},
     "output_type": "execute_result"
    }
   ],
   "source": [
    "# A busca é finalizada, esta é a solução encontrada\n",
    "b_AB.passo_busca()\n",
    "b_AB.solucao"
   ]
  },
  {
   "attachments": {},
   "cell_type": "markdown",
   "metadata": {},
   "source": [
    "3. A função heurística não pode ser utilizada para buscar a rota até outras cidades de destino na Romênia (tem que ser Bucareste), mas pode ser usada na busca de rotas mudando a cidade de origem (ao invés de Arad). Proponha e simule a busca de rotas de pelo menos duas outras cidades até Bucareste. Mostre o passo a passo do algoritmo buscando a solução."
   ]
  },
  {
   "cell_type": "code",
   "execution_count": 28,
   "metadata": {},
   "outputs": [
    {
     "name": "stdout",
     "output_type": "stream",
     "text": [
      "Craiova e Rimnicu Vilcea\n"
     ]
    }
   ],
   "source": [
    "# Escolheremos as duas cidades aleatoriamente\n",
    "\n",
    "import random as rnd\n",
    "\n",
    "rnd.seed(13)\n",
    "(estado_inicial, estado_objetivo) = rnd.sample(As.estados_romenia, 2)\n",
    "\n",
    "print(f\"{estado_inicial['estado']} e {estado_objetivo['estado']}\")"
   ]
  },
  {
   "cell_type": "code",
   "execution_count": 30,
   "metadata": {},
   "outputs": [],
   "source": [
    "# instanciando os nó de origem, os problemas e as buscas\n",
    "Craiova = As.No('Craiova', 0, None, None)\n",
    "Rimnicu_Vilcea = As.No('Rimnicu Vilcea', 0, None, None)\n",
    "\n",
    "p_CB = As.Problema(As.estados_romenia, Craiova, lambda no: no.estado == 'Bucharest')\n",
    "p_RVB = As.Problema(As.estados_romenia, Rimnicu_Vilcea, lambda no: no.estado == 'Bucharest')\n",
    "\n",
    "b_CB = As.A_Star(p_CB)\n",
    "b_RVB = As.A_Star(p_RVB)"
   ]
  },
  {
   "cell_type": "code",
   "execution_count": 31,
   "metadata": {},
   "outputs": [
    {
     "name": "stdout",
     "output_type": "stream",
     "text": [
      "[(Pitesti, c = 138, d = 238), (Drobeta, c = 120, d = 362), (Rimnicu Vilcea, c = 146, d = 339)]\n",
      "[(Bucharest, c = 101, d = 101), (Drobeta, c = 120, d = 362), (Rimnicu Vilcea, c = 146, d = 339)]\n",
      "[(Rimnicu Vilcea, c = 146, d = 339), (Drobeta, c = 120, d = 362)]\n",
      "Busca chegou ao objetivo com sucesso\n"
     ]
    }
   ],
   "source": [
    "# A busca expande Craiova e adiciona Pitesti, Drobeta e Rimnicu Vilcea\n",
    "# Depois expande Pitesti e adiciona Bucareste\n",
    "# Depois expande Bucareste e finaliza\n",
    "\n",
    "while b_CB.situacao != As.BUSCA_FALHOU and b_CB.situacao != As.BUSCA_SUCESSO:\n",
    "    b_CB.passo_busca()\n",
    "    print(b_CB.fronteira)\n",
    "b_CB.passo_busca()"
   ]
  },
  {
   "cell_type": "code",
   "execution_count": 32,
   "metadata": {},
   "outputs": [
    {
     "name": "stdout",
     "output_type": "stream",
     "text": [
      "[(Pitesti, c = 97, d = 197), (Sibiu, c = 80, d = 333), (Craiova, c = 146, d = 306)]\n",
      "[(Bucharest, c = 101, d = 101), (Sibiu, c = 80, d = 333), (Craiova, c = 146, d = 306)]\n",
      "[(Craiova, c = 146, d = 306), (Sibiu, c = 80, d = 333)]\n",
      "Busca chegou ao objetivo com sucesso\n"
     ]
    }
   ],
   "source": [
    "# A busca expande Rimnicu Vilcea e adiciona Piteste, Sibiue e Craiova\n",
    "# Depois expande Pitesti e adiciona Bucareste\n",
    "# Depois expande Bucareste e finaliza\n",
    "\n",
    "while b_RVB.situacao != As.BUSCA_FALHOU and b_RVB.situacao != As.BUSCA_SUCESSO:\n",
    "    b_RVB.passo_busca()\n",
    "    print(b_RVB.fronteira)\n",
    "b_RVB.passo_busca()"
   ]
  }
 ],
 "metadata": {
  "kernelspec": {
   "display_name": "Python 3",
   "language": "python",
   "name": "python3"
  },
  "language_info": {
   "codemirror_mode": {
    "name": "ipython",
    "version": 3
   },
   "file_extension": ".py",
   "mimetype": "text/x-python",
   "name": "python",
   "nbconvert_exporter": "python",
   "pygments_lexer": "ipython3",
   "version": "3.8.10"
  },
  "orig_nbformat": 4
 },
 "nbformat": 4,
 "nbformat_minor": 2
}
