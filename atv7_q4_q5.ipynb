{
 "cells": [
  {
   "attachments": {},
   "cell_type": "markdown",
   "metadata": {},
   "source": [
    "#### Atividade 7 - Algoritmos A*\n",
    "\n",
    "grupo: João Honorato, Maria Raquel Martinez, Samila Garrido\n",
    "\n",
    "4. Use algum aplicativo de mapas para obter a distância em linha reta, e crie uma função heurística para resolver problemas de rotas nas cidades da Romênia tendo outra cidade de destino diferente de Bucareste. Resolva algum problema de rota usando a função heurística criada, e mostre o passo a passo da busca.\n",
    "\n",
    "Nossa implementação esta no arquivo As_Romenia_Toda, importado a seguir. Usamos a biblioteca geopy para encontrar as coordenadas geográficas das cidades e a biblioteca haversine para encontrar a distância entre os dois pontos no globo."
   ]
  },
  {
   "cell_type": "code",
   "execution_count": 1,
   "metadata": {},
   "outputs": [],
   "source": [
    "import As_Romenia_Toda as art"
   ]
  },
  {
   "cell_type": "code",
   "execution_count": 3,
   "metadata": {},
   "outputs": [
    {
     "name": "stdout",
     "output_type": "stream",
     "text": [
      "Timisoara -> Craiova\n"
     ]
    }
   ],
   "source": [
    "# Escolhendo duas cidades aleatórias\n",
    "\n",
    "import random as rnd\n",
    "\n",
    "rnd.seed(89)\n",
    "(estado_inicial, estado_objetivo) = rnd.sample(art.estados_romenia, 2)\n",
    "\n",
    "print(f\"{estado_inicial['estado']} -> {estado_objetivo['estado']}\")"
   ]
  },
  {
   "cell_type": "code",
   "execution_count": 8,
   "metadata": {},
   "outputs": [],
   "source": [
    "# Instanciando o nó inicial, o problema e a busca\n",
    "\n",
    "Timisoara = art.No('Timisoara', 0, None, None, 'Craiova')\n",
    "p_TC = art.Problema(art.estados_romenia, Timisoara, lambda no: no.estado == 'Craiova')\n",
    "b_TC = art.A_Star(p_TC)"
   ]
  },
  {
   "cell_type": "code",
   "execution_count": 9,
   "metadata": {},
   "outputs": [
    {
     "name": "stdout",
     "output_type": "stream",
     "text": [
      "[(Lugoj, f = 111), (Arad, f = 118)]\n",
      "[(Mehadia, f = 70), (Arad, f = 118)]\n",
      "[(Drobeta, f = 75), (Arad, f = 118)]\n",
      "[(Craiova, f = 120), (Arad, f = 118)]\n",
      "[(Arad, f = 118)]\n",
      "Busca chegou ao objetivo com sucesso\n"
     ]
    }
   ],
   "source": [
    "while b_TC.situacao != art.BUSCA_FALHOU and b_TC.situacao != art.BUSCA_SUCESSO:\n",
    "    b_TC.passo_busca()\n",
    "    print(b_TC.fronteira)\n",
    "b_TC.passo_busca()"
   ]
  },
  {
   "cell_type": "code",
   "execution_count": 11,
   "metadata": {},
   "outputs": [
    {
     "data": {
      "text/plain": [
       "[(Timisoara, f = 0),\n",
       " (Lugoj, f = 111),\n",
       " (Mehadia, f = 70),\n",
       " (Drobeta, f = 75),\n",
       " (Craiova, f = 120)]"
      ]
     },
     "execution_count": 11,
     "metadata": {},
     "output_type": "execute_result"
    }
   ],
   "source": [
    "b_TC.solucao"
   ]
  },
  {
   "attachments": {},
   "cell_type": "markdown",
   "metadata": {},
   "source": [
    "5. Resolva outro problema formulado como um problema de busca usando o algoritmo A*. Pesquise sobre alguma função heurística para o problema, ou crie uma heurística admissível para ele. Mostre o passo a passo da busca pela solução.\n",
    "\n",
    "O nosso problema, o das 4 cores, foi modelado, por escolha nossa, como um problema de custo homogêneo. Ou seja, não existe uma forma clara ou óbvia de estimar que nó é mais vantajoso que outro, para estabelecer a prioridade na fila de execução. Uma ideia seria priorizar nós com mais regiões do mapa pintadas, pois eles estão mais próximos ao estado final, que é o mapa completo. Porém, a busca em profundiade já faz isso naturalmente. Dessa forma, não há necessidade de implementar o algoritmo A* para esse problema."
   ]
  }
 ],
 "metadata": {
  "kernelspec": {
   "display_name": "Python 3",
   "language": "python",
   "name": "python3"
  },
  "language_info": {
   "codemirror_mode": {
    "name": "ipython",
    "version": 3
   },
   "file_extension": ".py",
   "mimetype": "text/x-python",
   "name": "python",
   "nbconvert_exporter": "python",
   "pygments_lexer": "ipython3",
   "version": "3.8.10"
  },
  "orig_nbformat": 4
 },
 "nbformat": 4,
 "nbformat_minor": 2
}
