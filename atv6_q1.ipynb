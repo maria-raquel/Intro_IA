{
 "cells": [
  {
   "attachments": {},
   "cell_type": "markdown",
   "metadata": {},
   "source": [
    "## Atividade 6 \n",
    "#### Algoritmos de busca sem informação"
   ]
  },
  {
   "cell_type": "code",
   "execution_count": 28,
   "metadata": {},
   "outputs": [],
   "source": [
    "# importar o arquivo busca_prof.py\n",
    "\n",
    "import busca_largura as bl"
   ]
  },
  {
   "attachments": {},
   "cell_type": "markdown",
   "metadata": {},
   "source": [
    "1. Escolha duas cidades para buscar uma rota usando a implementação da busca em largura, mostre o passo a passo da busca"
   ]
  },
  {
   "cell_type": "code",
   "execution_count": 29,
   "metadata": {},
   "outputs": [
    {
     "name": "stdout",
     "output_type": "stream",
     "text": [
      "Oradea -> Iasi\n"
     ]
    }
   ],
   "source": [
    "# Escolheremos as duas cidades aleatoriamente\n",
    "\n",
    "import random as rnd\n",
    "\n",
    "rnd.seed(1)\n",
    "(estado_inicial, estado_objetivo) = rnd.sample(bl.estados_romenia, 2)\n",
    "\n",
    "print(f\"{estado_inicial['estado']} -> {estado_objetivo['estado']}\")"
   ]
  },
  {
   "cell_type": "code",
   "execution_count": 30,
   "metadata": {},
   "outputs": [],
   "source": [
    "no_Oradea = bl.No('Oradea', 0, None, None)\n",
    "\n",
    "problema_Oradea_Iasi = bl.Problema(bl.estados_romenia, no_Oradea, lambda no: no.estado == 'Iasi')"
   ]
  },
  {
   "cell_type": "code",
   "execution_count": 31,
   "metadata": {},
   "outputs": [
    {
     "data": {
      "text/plain": [
       "[(Oradea, 0)]"
      ]
     },
     "execution_count": 31,
     "metadata": {},
     "output_type": "execute_result"
    }
   ],
   "source": [
    "busca = bl.BuscaLargura(problema_Oradea_Iasi)\n",
    "busca.fronteira"
   ]
  },
  {
   "attachments": {},
   "cell_type": "markdown",
   "metadata": {},
   "source": [
    "A busca começa em Oradea, com fronteira vazia\n",
    "A seguir, os passos dados até chegar no objetivo"
   ]
  },
  {
   "cell_type": "code",
   "execution_count": 32,
   "metadata": {},
   "outputs": [
    {
     "data": {
      "text/plain": [
       "[(Zerind, 71), (Sibiu, 151)]"
      ]
     },
     "execution_count": 32,
     "metadata": {},
     "output_type": "execute_result"
    }
   ],
   "source": [
    "busca.passo_busca()\n",
    "busca.fronteira"
   ]
  },
  {
   "cell_type": "code",
   "execution_count": 33,
   "metadata": {},
   "outputs": [
    {
     "data": {
      "text/plain": [
       "[(Sibiu, 151), (Arad, 146)]"
      ]
     },
     "execution_count": 33,
     "metadata": {},
     "output_type": "execute_result"
    }
   ],
   "source": [
    "busca.passo_busca()\n",
    "busca.fronteira"
   ]
  },
  {
   "cell_type": "code",
   "execution_count": 34,
   "metadata": {},
   "outputs": [
    {
     "data": {
      "text/plain": [
       "[(Arad, 146), (Fagaras, 250), (Rimnicu Vilcea, 231)]"
      ]
     },
     "execution_count": 34,
     "metadata": {},
     "output_type": "execute_result"
    }
   ],
   "source": [
    "busca.passo_busca()\n",
    "busca.fronteira"
   ]
  },
  {
   "cell_type": "code",
   "execution_count": 35,
   "metadata": {},
   "outputs": [
    {
     "data": {
      "text/plain": [
       "[(Fagaras, 250), (Rimnicu Vilcea, 231), (Timisoara, 264)]"
      ]
     },
     "execution_count": 35,
     "metadata": {},
     "output_type": "execute_result"
    }
   ],
   "source": [
    "busca.passo_busca()\n",
    "busca.fronteira"
   ]
  },
  {
   "cell_type": "code",
   "execution_count": 36,
   "metadata": {},
   "outputs": [
    {
     "data": {
      "text/plain": [
       "[(Rimnicu Vilcea, 231), (Timisoara, 264), (Bucharest, 461)]"
      ]
     },
     "execution_count": 36,
     "metadata": {},
     "output_type": "execute_result"
    }
   ],
   "source": [
    "busca.passo_busca()\n",
    "busca.fronteira"
   ]
  },
  {
   "cell_type": "code",
   "execution_count": 37,
   "metadata": {},
   "outputs": [
    {
     "data": {
      "text/plain": [
       "[(Timisoara, 264), (Bucharest, 461), (Craiova, 377), (Pitesti, 328)]"
      ]
     },
     "execution_count": 37,
     "metadata": {},
     "output_type": "execute_result"
    }
   ],
   "source": [
    "busca.passo_busca()\n",
    "busca.fronteira"
   ]
  },
  {
   "cell_type": "code",
   "execution_count": 38,
   "metadata": {},
   "outputs": [
    {
     "data": {
      "text/plain": [
       "[(Bucharest, 461), (Craiova, 377), (Pitesti, 328), (Lugoj, 375)]"
      ]
     },
     "execution_count": 38,
     "metadata": {},
     "output_type": "execute_result"
    }
   ],
   "source": [
    "busca.passo_busca()\n",
    "busca.fronteira"
   ]
  },
  {
   "cell_type": "code",
   "execution_count": 39,
   "metadata": {},
   "outputs": [
    {
     "data": {
      "text/plain": [
       "[(Craiova, 377), (Pitesti, 328), (Lugoj, 375), (Giurgiu, 551), (Urziceni, 546)]"
      ]
     },
     "execution_count": 39,
     "metadata": {},
     "output_type": "execute_result"
    }
   ],
   "source": [
    "busca.passo_busca()\n",
    "busca.fronteira"
   ]
  },
  {
   "cell_type": "code",
   "execution_count": 40,
   "metadata": {},
   "outputs": [
    {
     "data": {
      "text/plain": [
       "[(Pitesti, 328), (Lugoj, 375), (Giurgiu, 551), (Urziceni, 546), (Drobeta, 497)]"
      ]
     },
     "execution_count": 40,
     "metadata": {},
     "output_type": "execute_result"
    }
   ],
   "source": [
    "busca.passo_busca()\n",
    "busca.fronteira"
   ]
  },
  {
   "cell_type": "code",
   "execution_count": 41,
   "metadata": {},
   "outputs": [
    {
     "data": {
      "text/plain": [
       "[(Lugoj, 375), (Giurgiu, 551), (Urziceni, 546), (Drobeta, 497)]"
      ]
     },
     "execution_count": 41,
     "metadata": {},
     "output_type": "execute_result"
    }
   ],
   "source": [
    "busca.passo_busca()\n",
    "busca.fronteira"
   ]
  },
  {
   "cell_type": "code",
   "execution_count": 42,
   "metadata": {},
   "outputs": [
    {
     "data": {
      "text/plain": [
       "[(Giurgiu, 551), (Urziceni, 546), (Drobeta, 497), (Mehadia, 445)]"
      ]
     },
     "execution_count": 42,
     "metadata": {},
     "output_type": "execute_result"
    }
   ],
   "source": [
    "busca.passo_busca()\n",
    "busca.fronteira"
   ]
  },
  {
   "cell_type": "code",
   "execution_count": 43,
   "metadata": {},
   "outputs": [
    {
     "data": {
      "text/plain": [
       "[(Urziceni, 546), (Drobeta, 497), (Mehadia, 445)]"
      ]
     },
     "execution_count": 43,
     "metadata": {},
     "output_type": "execute_result"
    }
   ],
   "source": [
    "busca.passo_busca()\n",
    "busca.fronteira"
   ]
  },
  {
   "cell_type": "code",
   "execution_count": 44,
   "metadata": {},
   "outputs": [
    {
     "data": {
      "text/plain": [
       "[(Drobeta, 497), (Mehadia, 445), (Vaslui, 688), (Hirsova, 644)]"
      ]
     },
     "execution_count": 44,
     "metadata": {},
     "output_type": "execute_result"
    }
   ],
   "source": [
    "busca.passo_busca()\n",
    "busca.fronteira"
   ]
  },
  {
   "cell_type": "code",
   "execution_count": 45,
   "metadata": {},
   "outputs": [
    {
     "data": {
      "text/plain": [
       "[(Mehadia, 445), (Vaslui, 688), (Hirsova, 644)]"
      ]
     },
     "execution_count": 45,
     "metadata": {},
     "output_type": "execute_result"
    }
   ],
   "source": [
    "busca.passo_busca()\n",
    "busca.fronteira"
   ]
  },
  {
   "cell_type": "code",
   "execution_count": 46,
   "metadata": {},
   "outputs": [
    {
     "data": {
      "text/plain": [
       "[(Vaslui, 688), (Hirsova, 644)]"
      ]
     },
     "execution_count": 46,
     "metadata": {},
     "output_type": "execute_result"
    }
   ],
   "source": [
    "busca.passo_busca()\n",
    "busca.fronteira"
   ]
  },
  {
   "cell_type": "code",
   "execution_count": 47,
   "metadata": {},
   "outputs": [
    {
     "data": {
      "text/plain": [
       "[(Hirsova, 644), (Iasi, 780)]"
      ]
     },
     "execution_count": 47,
     "metadata": {},
     "output_type": "execute_result"
    }
   ],
   "source": [
    "busca.passo_busca()\n",
    "busca.fronteira"
   ]
  },
  {
   "cell_type": "code",
   "execution_count": 48,
   "metadata": {},
   "outputs": [
    {
     "data": {
      "text/plain": [
       "[(Iasi, 780), (Eforie, 730)]"
      ]
     },
     "execution_count": 48,
     "metadata": {},
     "output_type": "execute_result"
    }
   ],
   "source": [
    "busca.passo_busca()\n",
    "busca.fronteira"
   ]
  },
  {
   "attachments": {},
   "cell_type": "markdown",
   "metadata": {},
   "source": [
    "No próximo passo, ele chegará a Iasi"
   ]
  },
  {
   "cell_type": "code",
   "execution_count": 49,
   "metadata": {},
   "outputs": [
    {
     "data": {
      "text/plain": [
       "[(Eforie, 730)]"
      ]
     },
     "execution_count": 49,
     "metadata": {},
     "output_type": "execute_result"
    }
   ],
   "source": [
    "busca.passo_busca()\n",
    "busca.fronteira"
   ]
  },
  {
   "cell_type": "code",
   "execution_count": 50,
   "metadata": {},
   "outputs": [
    {
     "name": "stdout",
     "output_type": "stream",
     "text": [
      "Busca chegou ao objetivo com sucesso\n"
     ]
    }
   ],
   "source": [
    "busca.passo_busca()"
   ]
  },
  {
   "cell_type": "code",
   "execution_count": 51,
   "metadata": {},
   "outputs": [
    {
     "data": {
      "text/plain": [
       "[(Oradea, 0),\n",
       " (Sibiu, 151),\n",
       " (Fagaras, 250),\n",
       " (Bucharest, 461),\n",
       " (Urziceni, 546),\n",
       " (Vaslui, 688),\n",
       " (Iasi, 780)]"
      ]
     },
     "execution_count": 51,
     "metadata": {},
     "output_type": "execute_result"
    }
   ],
   "source": [
    "busca.solucao"
   ]
  },
  {
   "attachments": {},
   "cell_type": "markdown",
   "metadata": {},
   "source": [
    "A busca encontrou um caminho entre as duas cidades com sucesso e teve um custo final de 780"
   ]
  }
 ],
 "metadata": {
  "kernelspec": {
   "display_name": "Python 3",
   "language": "python",
   "name": "python3"
  },
  "language_info": {
   "codemirror_mode": {
    "name": "ipython",
    "version": 3
   },
   "file_extension": ".py",
   "mimetype": "text/x-python",
   "name": "python",
   "nbconvert_exporter": "python",
   "pygments_lexer": "ipython3",
   "version": "3.8.10"
  },
  "orig_nbformat": 4
 },
 "nbformat": 4,
 "nbformat_minor": 2
}
