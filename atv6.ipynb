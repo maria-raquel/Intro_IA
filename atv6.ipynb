{
 "cells": [
  {
   "attachments": {},
   "cell_type": "markdown",
   "metadata": {},
   "source": [
    "## Atividade 6 \n",
    "#### Algoritmos de busca sem informação"
   ]
  },
  {
   "attachments": {},
   "cell_type": "markdown",
   "metadata": {},
   "source": [
    "Código da busca em largura, como implementado pelo professor:"
   ]
  },
  {
   "attachments": {},
   "cell_type": "markdown",
   "metadata": {},
   "source": [
    "1. Escolha duas cidades para buscar uma rota usando a implementação da busca em largura, mostre o passo a passo da busca"
   ]
  },
  {
   "cell_type": "code",
   "execution_count": 32,
   "metadata": {},
   "outputs": [
    {
     "name": "stdout",
     "output_type": "stream",
     "text": [
      "Oradea -> Iasi\n"
     ]
    }
   ],
   "source": [
    "# Escolheremos as duas cidades aleatoriamente\n",
    "\n",
    "import random as rnd\n",
    "\n",
    "rnd.seed(1)\n",
    "(estado_inicial, estado_objetivo) = rnd.sample(estados_romenia, 2)\n",
    "\n",
    "print(f\"{estado_inicial['estado']} -> {estado_objetivo['estado']}\")"
   ]
  },
  {
   "cell_type": "code",
   "execution_count": 33,
   "metadata": {},
   "outputs": [],
   "source": [
    "no_Oradea = No('Oradea', 0, None, None)\n",
    "\n",
    "problema_Oradea_Iasi = Problema(estados_romenia, no_Oradea, lambda no: no.estado == 'Iasi')"
   ]
  }
 ],
 "metadata": {
  "kernelspec": {
   "display_name": "Python 3",
   "language": "python",
   "name": "python3"
  },
  "language_info": {
   "codemirror_mode": {
    "name": "ipython",
    "version": 3
   },
   "file_extension": ".py",
   "mimetype": "text/x-python",
   "name": "python",
   "nbconvert_exporter": "python",
   "pygments_lexer": "ipython3",
   "version": "3.8.10"
  },
  "orig_nbformat": 4
 },
 "nbformat": 4,
 "nbformat_minor": 2
}
